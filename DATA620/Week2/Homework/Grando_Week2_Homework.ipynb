{
 "cells": [
  {
   "cell_type": "code",
   "execution_count": 1,
   "metadata": {
    "collapsed": false
   },
   "outputs": [],
   "source": [
    "import networkx as nx\n",
    "import matplotlib.pyplot as plot\n",
    "%matplotlib inline\n",
    "\n",
    "#This data set was taken from http://www-personal.umich.edu/~mejn/netdata/ and is described as\n",
    "#an undirected, unweighted network representing the topology of the Western States Power Grid of the United States. \n",
    "#Data compiled by D. Watts and S. Strogatz and made available on the web here\n",
    "#(http://cdg.columbia.edu/cdg/datasets). Please cite D. J. Watts and S. H. Strogatz, Nature 393, 440-442 (1998).\n",
    "\n",
    "g = nx.read_gml('./power/power.gml', label='id')\n",
    "#I am only taking a small subset of the nodes because graphical representations of the largest netowrk \n",
    "#(diameter = 46) takes an extremely long time to generate.\n",
    "nodelist = [i for i in range(0, 500)]\n",
    "g = g.subgraph(nodelist)\n",
    "#nx.draw(g, pos=nx.spring_layout(g))\n",
    "#plot.axis('off')\n",
    "#plot.show()"
   ]
  },
  {
   "cell_type": "code",
   "execution_count": 2,
   "metadata": {
    "collapsed": false
   },
   "outputs": [
    {
     "name": "stdout",
     "output_type": "stream",
     "text": [
      "25\n",
      "[(98, 0.036000000000000004), (88, 0.032), (94, 0.028), (129, 0.028), (140, 0.028), (153, 0.028), (154, 0.028), (205, 0.028), (9, 0.024)]\n"
     ]
    }
   ],
   "source": [
    "#calcualte diameter.  We must pick a subset that is entirely connected and check that diameter.  \n",
    "#We will use the biggest network\n",
    "bn = sorted(nx.connected_components(g), key=len, reverse=True)[0]\n",
    "g = g.subgraph(bn)\n",
    "#nx.draw(g, pos=nx.spring_layout(g))\n",
    "#plot.axis('off')\n",
    "#plot.show()\n",
    "\n",
    "#Diameter of largest network\n",
    "print nx.diameter(g)\n",
    "#Degrees of centrality for top ten nodes.  The first number in each pair is the node number and the second number\n",
    "#is the normalized value which is obtained by dividing by the maximum possible degree in a simple graph n-1 \n",
    "#where n is the number of nodes in G.\n",
    "print sorted(nx.degree_centrality(g).iteritems(), key=lambda(k, v): (-v, k))[0:9]"
   ]
  },
  {
   "cell_type": "code",
   "execution_count": 3,
   "metadata": {
    "collapsed": false
   },
   "outputs": [],
   "source": [
    "power_nodes = g.nodes()\n",
    "power_edges = g.edges()"
   ]
  },
  {
   "cell_type": "code",
   "execution_count": 4,
   "metadata": {
    "collapsed": false
   },
   "outputs": [
    {
     "name": "stdout",
     "output_type": "stream",
     "text": [
      "This non-commercial license of GraphLab Create for academic use is assigned to john.grando@spsmail.cuny.edu and will expire on June 05, 2018.\n"
     ]
    },
    {
     "name": "stderr",
     "output_type": "stream",
     "text": [
      "[INFO] graphlab.cython.cy_server: GraphLab Create v2.1 started. Logging: C:\\Users\\jgrando\\AppData\\Local\\Temp\\graphlab_server_1497318005.log.0\n"
     ]
    },
    {
     "data": {
      "application/javascript": [
       "$(\"head\").append($(\"<link/>\").attr({\n",
       "  rel:  \"stylesheet\",\n",
       "  type: \"text/css\",\n",
       "  href: \"//cdnjs.cloudflare.com/ajax/libs/font-awesome/4.1.0/css/font-awesome.min.css\"\n",
       "}));\n",
       "$(\"head\").append($(\"<link/>\").attr({\n",
       "  rel:  \"stylesheet\",\n",
       "  type: \"text/css\",\n",
       "  href: \"https://static.turi.com/products/graphlab-create/2.1/canvas/css/canvas.css\"\n",
       "}));\n",
       "\n",
       "            (function(){\n",
       "\n",
       "                var e = null;\n",
       "                if (typeof element == 'undefined') {\n",
       "                    var scripts = document.getElementsByTagName('script');\n",
       "                    var thisScriptTag = scripts[scripts.length-1];\n",
       "                    var parentDiv = thisScriptTag.parentNode;\n",
       "                    e = document.createElement('div');\n",
       "                    parentDiv.appendChild(e);\n",
       "                } else {\n",
       "                    e = element[0];\n",
       "                }\n",
       "\n",
       "                if (typeof requirejs !== 'undefined') {\n",
       "                    // disable load timeout; ipython_app.js is large and can take a while to load.\n",
       "                    requirejs.config({waitSeconds: 0});\n",
       "                }\n",
       "\n",
       "                require(['https://static.turi.com/products/graphlab-create/2.1/canvas/js/ipython_app.js'], function(IPythonApp){\n",
       "                    var app = new IPythonApp();\n",
       "                    app.attachView('sgraph','View', {\"edges_labels\": null, \"selected_variable\": {\"name\": [\"powergraph\"], \"view_file\": \"sgraph\", \"view_component\": \"View\", \"view_params\": {\"elabel_hover\": false, \"vertex_positions\": null, \"h_offset\": 0.0, \"node_size\": 300, \"ecolor\": [0.37, 0.33, 0.33], \"elabel\": null, \"arrows\": false, \"ewidth\": 1, \"vlabel\": \"id\", \"highlight_color\": [[0.69, 0.0, 0.498], [0.69, 0.0, 0.498], [0.69, 0.0, 0.498]], \"vcolor\": [0.522, 0.741, 0.0], \"vlabel_hover\": false, \"highlight\": {\"98\": [0.69, 0.0, 0.498], \"207\": [0.69, 0.0, 0.498], \"129\": [0.69, 0.0, 0.498]}, \"v_offset\": 0.03}, \"view_components\": [\"View\"], \"type\": \"SGraph\", \"descriptives_links\": {\"edges\": \"edges\", \"vertices\": \"vertices\"}, \"descriptives\": {\"edges\": 314, \"vertices\": 251}}, \"positions\": null, \"error_type\": 0, \"vertices\": [52, 50, 47, 33, 29, 10, 196, 110, 68, 178, 136, 96, 218, 480, 8, 92, 115, 113, 73, 155, 70, 478, 175, 215, 87, 476, 27, 499, 5, 482, 7, 67, 63, 58, 56, 36, 184, 495, 149, 16, 34, 109, 204, 158, 493, 107, 65, 167, 118, 162, 76, 189, 235, 191, 89, 21, 193, 202, 30, 62, 61, 37, 38, 15, 489, 105, 103, 146, 205, 123, 78, 106, 124, 143, 228, 83, 165, 168, 183, 43, 186, 18, 233, 206, 208, 227, 40, 145, 166, 487, 59, 48, 46, 35, 31, 26, 13, 498, 492, 148, 130, 53, 121, 108, 135, 126, 88, 86, 236, 485, 159, 163, 75, 170, 181, 176, 119, 203, 192, 216, 221, 225, 28, 9, 477, 237, 481, 219, 217, 6, 214, 114, 74, 93, 91, 71, 97, 116, 69, 134, 32, 137, 151, 154, 174, 177, 156, 111, 160, 72, 179, 195, 51, 197, 200, 54, 25, 14, 484, 224, 127, 497, 122, 226, 85, 120, 140, 231, 100, 98, 80, 45, 153, 138, 180, 198, 94, 171, 182, 131, 220, 222, 12, 129, 173, 211, 213, 41, 39, 19, 491, 144, 42, 82, 125, 104, 101, 230, 102, 20, 79, 142, 81, 210, 232, 147, 187, 141, 188, 64, 486, 164, 169, 209, 60, 207, 229, 66, 57, 24, 17, 44, 4, 496, 483, 479, 99, 150, 117, 112, 77, 11, 95, 190, 139, 185, 494, 152, 201, 212, 90, 128, 172, 55, 194, 157, 234, 474, 199, 161, 223], \"vertices_labels\": [52, 50, 47, 33, 29, 10, 196, 110, 68, 178, 136, 96, 218, 480, 8, 92, 115, 113, 73, 155, 70, 478, 175, 215, 87, 476, 27, 499, 5, 482, 7, 67, 63, 58, 56, 36, 184, 495, 149, 16, 34, 109, 204, 158, 493, 107, 65, 167, 118, 162, 76, 189, 235, 191, 89, 21, 193, 202, 30, 62, 61, 37, 38, 15, 489, 105, 103, 146, 205, 123, 78, 106, 124, 143, 228, 83, 165, 168, 183, 43, 186, 18, 233, 206, 208, 227, 40, 145, 166, 487, 59, 48, 46, 35, 31, 26, 13, 498, 492, 148, 130, 53, 121, 108, 135, 126, 88, 86, 236, 485, 159, 163, 75, 170, 181, 176, 119, 203, 192, 216, 221, 225, 28, 9, 477, 237, 481, 219, 217, 6, 214, 114, 74, 93, 91, 71, 97, 116, 69, 134, 32, 137, 151, 154, 174, 177, 156, 111, 160, 72, 179, 195, 51, 197, 200, 54, 25, 14, 484, 224, 127, 497, 122, 226, 85, 120, 140, 231, 100, 98, 80, 45, 153, 138, 180, 198, 94, 171, 182, 131, 220, 222, 12, 129, 173, 211, 213, 41, 39, 19, 491, 144, 42, 82, 125, 104, 101, 230, 102, 20, 79, 142, 81, 210, 232, 147, 187, 141, 188, 64, 486, 164, 169, 209, 60, 207, 229, 66, 57, 24, 17, 44, 4, 496, 483, 479, 99, 150, 117, 112, 77, 11, 95, 190, 139, 185, 494, 152, 201, 212, 90, 128, 172, 55, 194, 157, 234, 474, 199, 161, 223], \"edges\": [[7, 8], [10, 50], [33, 34], [87, 89], [480, 493], [482, 495], [27, 166], [50, 205], [92, 123], [115, 205], [136, 146], [482, 489], [5, 13], [29, 130], [52, 119], [70, 108], [87, 88], [96, 148], [478, 498], [478, 492], [482, 485], [8, 9], [29, 160], [52, 111], [68, 69], [73, 91], [92, 174], [476, 477], [5, 120], [47, 171], [73, 231], [92, 94], [113, 129], [96, 144], [27, 161], [50, 139], [52, 172], [478, 479], [482, 494], [36, 47], [56, 175], [63, 68], [65, 68], [67, 70], [76, 110], [107, 178], [56, 149], [58, 167], [30, 123], [36, 37], [36, 38], [162, 165], [21, 176], [34, 35], [56, 119], [58, 59], [76, 86], [162, 163], [21, 51], [34, 97], [184, 200], [30, 140], [56, 198], [149, 198], [36, 39], [36, 157], [56, 152], [76, 185], [76, 77], [495, 496], [83, 218], [145, 196], [40, 202], [78, 109], [105, 184], [143, 202], [183, 184], [103, 145], [106, 186], [43, 163], [83, 221], [166, 176], [168, 170], [40, 97], [62, 154], [143, 151], [43, 94], [103, 153], [123, 140], [124, 153], [124, 173], [146, 153], [18, 19], [61, 188], [61, 209], [78, 79], [124, 232], [168, 229], [205, 207], [206, 207], [487, 491], [18, 190], [103, 190], [124, 194], [143, 234], [145, 194], [233, 234], [46, 47], [86, 110], [88, 178], [119, 175], [35, 36], [46, 184], [163, 191], [192, 193], [492, 493], [13, 83], [13, 15], [31, 62], [48, 106], [216, 228], [485, 489], [26, 203], [48, 75], [119, 148], [135, 236], [216, 225], [221, 225], [485, 498], [35, 69], [88, 195], [108, 116], [236, 237], [13, 14], [26, 131], [26, 94], [53, 231], [88, 198], [121, 122], [126, 129], [170, 171], [485, 497], [492, 497], [31, 104], [35, 142], [35, 141], [48, 101], [59, 60], [108, 207], [163, 164], [485, 486], [26, 139], [88, 172], [88, 90], [6, 8], [9, 10], [32, 155], [69, 70], [72, 73], [72, 215], [114, 115], [154, 155], [177, 178], [214, 499], [214, 215], [217, 218], [477, 480], [111, 204], [116, 118], [156, 189], [174, 189], [195, 204], [9, 205], [9, 208], [9, 61], [179, 206], [9, 75], [71, 86], [111, 192], [111, 148], [134, 236], [154, 159], [32, 174], [177, 179], [28, 98], [51, 120], [71, 224], [74, 98], [93, 94], [134, 222], [137, 224], [154, 173], [177, 180], [219, 224], [477, 484], [116, 207], [137, 229], [481, 491], [51, 194], [72, 112], [91, 496], [116, 117], [137, 223], [154, 157], [179, 199], [197, 201], [14, 29], [25, 136], [45, 47], [14, 16], [25, 58], [54, 109], [80, 184], [129, 235], [153, 158], [182, 184], [484, 493], [98, 205], [122, 123], [138, 205], [138, 143], [140, 186], [12, 13], [98, 135], [220, 221], [484, 485], [85, 151], [153, 154], [153, 156], [198, 200], [94, 131], [98, 100], [127, 129], [138, 140], [14, 147], [54, 147], [98, 125], [129, 207], [140, 141], [226, 229], [226, 230], [14, 17], [80, 199], [94, 95], [131, 139], [138, 139], [138, 150], [153, 157], [198, 201], [484, 496], [41, 218], [64, 68], [41, 58], [41, 167], [101, 123], [125, 208], [169, 227], [187, 228], [188, 205], [19, 130], [42, 181], [144, 192], [169, 170], [60, 154], [104, 174], [42, 98], [79, 80], [82, 98], [102, 140], [104, 222], [210, 211], [210, 213], [19, 20], [41, 232], [41, 42], [81, 82], [101, 210], [141, 142], [169, 187], [187, 230], [20, 199], [210, 212], [486, 494], [44, 47], [112, 113], [112, 215], [161, 196], [479, 480], [496, 499], [55, 107], [77, 191], [150, 191], [157, 193], [223, 227], [4, 88], [24, 53], [55, 88], [77, 170], [150, 181], [66, 69], [474, 481], [479, 481], [11, 94], [57, 98], [95, 129], [95, 171], [99, 100], [128, 129], [139, 140], [152, 198], [483, 484], [11, 125], [185, 187], [199, 201]], \"ipython\": true, \"error_msg\": \"\"}, e);\n",
       "                });\n",
       "            })();\n",
       "        "
      ]
     },
     "metadata": {},
     "output_type": "display_data"
    }
   ],
   "source": [
    "from graphlab import SGraph, Vertex, Edge, canvas\n",
    "canvas.set_target('ipynb')\n",
    "powergraph = SGraph()\n",
    "nodelist = []\n",
    "for i in power_nodes:\n",
    "    nodelist.append(Vertex(i))\n",
    "powergraph = powergraph.add_vertices(nodelist)\n",
    "for i, j in power_edges:\n",
    "    powergraph = powergraph.add_edges(Edge(i,j))\n",
    "powergraph.show(vlabel='id', highlight=['98','129','207'])"
   ]
  },
  {
   "cell_type": "code",
   "execution_count": 5,
   "metadata": {
    "collapsed": false
   },
   "outputs": [
    {
     "name": "stdout",
     "output_type": "stream",
     "text": [
      "[(207, 0.1736111111111111), (205, 0.17289073305670816), (129, 0.16983695652173914), (95, 0.16733601070950468), (171, 0.1656726308813784), (138, 0.16469038208168643), (47, 0.16404199475065617), (36, 0.16244314489928524), (98, 0.16170763260025872)]\n"
     ]
    }
   ],
   "source": [
    "#Check closeness centrality\n",
    "cc = nx.closeness_centrality(g)\n",
    "print sorted(cc.iteritems(), key=lambda(k, v): (-v, k))[0:9]"
   ]
  },
  {
   "cell_type": "code",
   "execution_count": 6,
   "metadata": {
    "collapsed": false
   },
   "outputs": [
    {
     "name": "stdout",
     "output_type": "stream",
     "text": [
      "[(129, 0.28054480780263935), (207, 0.2666085293555175), (205, 0.24758064639510477), (113, 0.22412851405622491), (112, 0.21812048192771086), (171, 0.17557360872059657), (36, 0.17061801491680967), (98, 0.16518305603365854), (47, 0.16466819659590715)]\n"
     ]
    }
   ],
   "source": [
    "#check betweenness\n",
    "b = nx.betweenness_centrality(g)\n",
    "print sorted(b.iteritems(), key=lambda(k, v): (-v, k))[0:9]"
   ]
  },
  {
   "cell_type": "code",
   "execution_count": 7,
   "metadata": {
    "collapsed": false
   },
   "outputs": [],
   "source": [
    "#check eigenvector - doesn't work on network.  May be multiple reasons.\n",
    "#ev = nx.eigenvector_centrality(g)\n",
    "#print sorted(ev.iteritems(), key=lambda(k, v): (-v, k))[0:9]"
   ]
  },
  {
   "cell_type": "code",
   "execution_count": 8,
   "metadata": {
    "collapsed": false
   },
   "outputs": [
    {
     "name": "stdout",
     "output_type": "stream",
     "text": [
      "[(98, 0.013698129018694294), (88, 0.011760651260049297), (129, 0.010894519860871437), (154, 0.009662179385928992), (184, 0.009647948002684877), (153, 0.009521084880517911), (205, 0.009330371998802647), (94, 0.009285167254415581), (36, 0.009137781321221873)]\n"
     ]
    }
   ],
   "source": [
    "#check pagerank\n",
    "pr = nx.pagerank(g)\n",
    "print sorted(pr.iteritems(), key=lambda(k, v): (-v, k))[0:9]"
   ]
  },
  {
   "cell_type": "code",
   "execution_count": null,
   "metadata": {
    "collapsed": true
   },
   "outputs": [],
   "source": []
  }
 ],
 "metadata": {
  "kernelspec": {
   "display_name": "Python 2",
   "language": "python",
   "name": "python2"
  },
  "language_info": {
   "codemirror_mode": {
    "name": "ipython",
    "version": 2
   },
   "file_extension": ".py",
   "mimetype": "text/x-python",
   "name": "python",
   "nbconvert_exporter": "python",
   "pygments_lexer": "ipython2",
   "version": "2.7.11"
  }
 },
 "nbformat": 4,
 "nbformat_minor": 0
}
