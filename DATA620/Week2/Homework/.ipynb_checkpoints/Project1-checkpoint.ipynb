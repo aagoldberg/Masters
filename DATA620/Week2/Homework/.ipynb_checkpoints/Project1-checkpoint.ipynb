{
 "cells": [
  {
   "cell_type": "code",
   "execution_count": 96,
   "metadata": {
    "collapsed": false,
    "scrolled": true
   },
   "outputs": [],
   "source": [
    "from stackapi import StackAPI\n",
    "import pandas as pd\n",
    "SITE = StackAPI('stackoverflow')\n",
    "questions = SITE.fetch('questions', fromdate=1457136000, todate=1458222400,\n",
    "                       min=20, sort='votes')\n",
    "qdf = pd.DataFrame.from_dict(questions)\n",
    "qdf = qdf.to_csv(\"questions.csv\")"
   ]
  },
  {
   "cell_type": "code",
   "execution_count": 97,
   "metadata": {
    "collapsed": false
   },
   "outputs": [],
   "source": [
    "import ast\n",
    "answerlist = []\n",
    "qdf = pd.read_csv(\"questions.csv\")\n",
    "for index, row in qdf.iterrows():\n",
    "    rd = ast.literal_eval(row['items'])\n",
    "    if 'accepted_answer_id' in rd:\n",
    "        answerlist.append(rd['accepted_answer_id'])"
   ]
  },
  {
   "cell_type": "code",
   "execution_count": 98,
   "metadata": {
    "collapsed": false
   },
   "outputs": [
    {
     "name": "stdout",
     "output_type": "stream",
     "text": [
      "[35949619, 35914788, 36027375, 35974928, 35960019, 35945293, 35917202, 35937876, 35842359, 36033640, 35900280, 35899240, 39658359, 35932075, 36069603, 35887846, 35844670, 36058683, 35987910, 36008655, 35963238, 36063184, 35840647, 35906703, 36049794, 35943677, 37170238, 35985655, 35979190, 35979751, 35846307, 35939981, 36147896, 35916154, 36035086, 35835985, 35844334, 35932786, 36791121, 36019034, 35963479, 35959710, 36031162, 35846099, 35852089, 36083490, 35886534, 35953918, 35993090, 42545915, 35926433, 36010037, 36906251, 38066008, 35991491, 36007338, 35912966, 35981104, 35985489, 37195688, 35809319, 35818398, 35840596, 35910012, 35943728, 35984878, 35817969, 37216638, 35867020, 37926225, 35959910, 35972824, 35968701, 35985045, 36014586, 36103767, 37008353, 35944678, 35813427, 35844350, 35867133, 37200737, 35951584, 35925343, 35931947, 35947572, 35994373, 36011233, 39583424, 35899978, 35976745, 35941658, 35956274, 36021145, 40136506, 35825714, 35835834, 37549911, 35918266, 35922138, 35935816, 35962849, 40207535, 35985101]\n",
      "104\n"
     ]
    }
   ],
   "source": [
    "#print answerlist\n",
    "#print len(answerlist)"
   ]
  },
  {
   "cell_type": "code",
   "execution_count": 99,
   "metadata": {
    "collapsed": false
   },
   "outputs": [],
   "source": [
    "answerlist1 = answerlist[:99]\n",
    "answers1 = SITE.fetch('/answers/{ids}', ids=answerlist1)\n",
    "answerlist2 = answerlist[99:]\n",
    "answers2 = SITE.fetch('/answers/{ids}', ids=answerlist2)"
   ]
  },
  {
   "cell_type": "code",
   "execution_count": 100,
   "metadata": {
    "collapsed": false
   },
   "outputs": [],
   "source": [
    "adf1 = pd.DataFrame.from_dict(answers1)\n",
    "adf2 = pd.DataFrame.from_dict(answers2)\n",
    "\n",
    "adf = pd.concat([adf1, adf2])\n",
    "adf = adf.to_csv(\"answers.csv\")"
   ]
  },
  {
   "cell_type": "code",
   "execution_count": 101,
   "metadata": {
    "collapsed": true
   },
   "outputs": [],
   "source": [
    "#Only run above when needed.\n",
    "import ast\n",
    "userasklist = []\n",
    "useranswerlist = []\n",
    "questionlist = []\n",
    "adf = pd.read_csv(\"answers.csv\")\n",
    "qdf = pd.read_csv(\"questions.csv\")\n",
    "dq = {}\n",
    "for index, row in qdf.iterrows():\n",
    "    rd = ast.literal_eval(row['items'])\n",
    "    if 'accepted_answer_id' in rd:\n",
    "        dq[rd['question_id']] = rd['owner']['user_id']\n",
    "        questionlist.append(rd['question_id'])\n",
    "        answerlist.append(rd['accepted_answer_id'])"
   ]
  },
  {
   "cell_type": "code",
   "execution_count": 102,
   "metadata": {
    "collapsed": false
   },
   "outputs": [
    {
     "name": "stdout",
     "output_type": "stream",
     "text": [
      "           answered    asked\n",
      "35809290  3992148.0  6020904\n",
      "35810172  5000417.0  5984184\n",
      "35813344   157247.0  2929337\n",
      "35815093   487339.0  1525423\n",
      "35819290  1202206.0  1202206\n",
      "35832095  4879270.0  6026378\n",
      "35835670  3225108.0  5484387\n",
      "35835984    39396.0    39396\n",
      "35838849  4774918.0   882697\n",
      "35839913   743382.0  5284180\n",
      "35840576   217408.0   940219\n",
      "35841117   809944.0  5146570\n",
      "35841620  4688119.0  4688119\n",
      "35842955  5891747.0  6028881\n",
      "35844279  2173917.0  3680672\n",
      "35844586  1687119.0  3880275\n",
      "35845554  5043867.0  4178623\n",
      "35849970   930517.0  5377437\n",
      "35854481   122718.0   105886\n",
      "35860436  3217683.0   647991\n",
      "35861228  2099608.0  3910483\n",
      "35864957  5436257.0  4495663\n",
      "35866847  2867928.0  1382251\n",
      "35874482  4052855.0  5906571\n",
      "35879185  5032339.0   410076\n",
      "35881815  1401751.0   299574\n",
      "35882670  4496505.0  2313300\n",
      "35888012   267540.0  1609729\n",
      "35890257  1118886.0  1118886\n",
      "35890582   459897.0  2032154\n",
      "...             ...      ...\n",
      "35980786   106224.0   128511\n",
      "35983628        NaN  2813589\n",
      "35984788  3309790.0  4320224\n",
      "35985009  1873365.0  3753499\n",
      "35985347  1873365.0  5350006\n",
      "35985592  2659313.0  4257805\n",
      "35987055  2225281.0  3029163\n",
      "35987493    60281.0   964080\n",
      "35990995  6069742.0  1629278\n",
      "35992681  5115932.0  5115932\n",
      "35993029   440558.0  5666280\n",
      "35993541   868975.0  3000387\n",
      "36004810  1137034.0  1137034\n",
      "36007044   451600.0   695132\n",
      "36008621  1870803.0  3894854\n",
      "36010942   244647.0  5646429\n",
      "36012239   217408.0  3048887\n",
      "36013063   670206.0  3441597\n",
      "36013174   858671.0  1775471\n",
      "36016369  2837959.0   258429\n",
      "36024013  1323992.0  4835090\n",
      "36032177  3152529.0  1371814\n",
      "36033940   949476.0  2129173\n",
      "36034715  4533997.0  4533997\n",
      "36039146  1934903.0  1934903\n",
      "36046167   699305.0  6025403\n",
      "36049689  1477667.0  1513295\n",
      "36050741  3792350.0  1183691\n",
      "36051891    21872.0  4480993\n",
      "36058577  2380830.0  4886465\n",
      "\n",
      "[104 rows x 2 columns]\n"
     ]
    }
   ],
   "source": [
    "da = {}\n",
    "for i in range(0, len(answers['items'])):\n",
    "    da[answers['items'][i]['question_id']] = answers['items'][i]['owner']['user_id']\n",
    "\n",
    "d = {\"asked\": pd.Series(dq.values(), index = pd.Series(dq.keys())), \"answered\": pd.Series(da.values(), index = pd.Series(da.keys()))}\n",
    "data = pd.DataFrame(d)\n",
    "print data"
   ]
  },
  {
   "cell_type": "code",
   "execution_count": null,
   "metadata": {
    "collapsed": true
   },
   "outputs": [],
   "source": []
  }
 ],
 "metadata": {
  "kernelspec": {
   "display_name": "Python 2",
   "language": "python",
   "name": "python2"
  },
  "language_info": {
   "codemirror_mode": {
    "name": "ipython",
    "version": 2
   },
   "file_extension": ".py",
   "mimetype": "text/x-python",
   "name": "python",
   "nbconvert_exporter": "python",
   "pygments_lexer": "ipython2",
   "version": "2.7.11"
  }
 },
 "nbformat": 4,
 "nbformat_minor": 0
}
