{
 "cells": [
  {
   "cell_type": "code",
   "execution_count": 2,
   "metadata": {
    "collapsed": false,
    "scrolled": true
   },
   "outputs": [],
   "source": [
    "from stackapi import StackAPI\n",
    "import pandas as pd\n",
    "import time\n",
    "SITE = StackAPI('stackoverflow')"
   ]
  },
  {
   "cell_type": "code",
   "execution_count": 3,
   "metadata": {
    "collapsed": false
   },
   "outputs": [],
   "source": [
    "start_time = int(time.mktime(time.strptime(\"2016-06-01T00:00:00\", \"%Y-%m-%dT%H:%M:%S\")))\n",
    "end_time = int(time.mktime(time.strptime(\"2017-06-01T00:00:00\", \"%Y-%m-%dT%H:%M:%S\")))\n",
    "questions = SITE.fetch('questions', fromdate=start_time, todate=end_time,\n",
    "                       min=20, sort='votes')"
   ]
  },
  {
   "cell_type": "code",
   "execution_count": 4,
   "metadata": {
    "collapsed": false
   },
   "outputs": [],
   "source": [
    "qdf = pd.DataFrame.from_dict(questions)\n",
    "i = 2\n",
    "while questions['has_more'] == True and i < 10:\n",
    "    questions = SITE.fetch('questions', fromdate=start_time, todate=end_time,\n",
    "                       min=20, sort='votes', page=i)\n",
    "    tdf = pd.DataFrame.from_dict(questions)\n",
    "    qdf = pd.concat([qdf, tdf])\n",
    "    i += 1 \n",
    "qdf = qdf.reset_index()\n",
    "qdf = qdf.to_csv(\"questions.csv\")"
   ]
  },
  {
   "cell_type": "code",
   "execution_count": 5,
   "metadata": {
    "collapsed": false
   },
   "outputs": [],
   "source": [
    "import ast\n",
    "answerlist = []\n",
    "qdf = pd.read_csv(\"questions.csv\")\n",
    "for index, row in qdf.iterrows():\n",
    "    rd = ast.literal_eval(row['items'])\n",
    "    if 'accepted_answer_id' in rd and 'user_id' in rd['owner']:\n",
    "        answerlist.append(rd['accepted_answer_id'])"
   ]
  },
  {
   "cell_type": "code",
   "execution_count": 8,
   "metadata": {
    "collapsed": false
   },
   "outputs": [],
   "source": [
    "adf = {}\n",
    "numiters = int(len(answerlist) / 99)\n",
    "if numiters == 0:\n",
    "    answers = SITE.fetch('/answers/{ids}', ids=answerlist)\n",
    "    adf = pd.DataFrame.from_dict(answers)\n",
    "else:\n",
    "    answers = SITE.fetch('/answers/{ids}', ids=answerlist[:99])\n",
    "    adf = pd.DataFrame.from_dict(answers)\n",
    "    j = 99\n",
    "    k = j + 99\n",
    "    for i in range(0, numiters):\n",
    "        answers = SITE.fetch('/answers/{ids}', ids=answerlist[j:k])\n",
    "        temp = pd.DataFrame.from_dict(answers)\n",
    "        adf = pd.concat([adf, temp])\n",
    "        j = j + 99\n",
    "        k = k + 99\n",
    "adf = adf.reset_index()\n",
    "adf = adf.to_csv(\"answers.csv\")"
   ]
  },
  {
   "cell_type": "code",
   "execution_count": 9,
   "metadata": {
    "collapsed": true
   },
   "outputs": [],
   "source": [
    "#answers = SITE.fetch('/answers/{ids}', ids=answerlist)\n",
    "#adf = pd.DataFrame.from_dict(answers)\n",
    "#i = 2\n",
    "#while answers['has_more'] == True and i <= 50:\n",
    "#    answers = SITE.fetch('/answers/{ids}', ids=answerlist, page=i)\n",
    "#    tdf = pd.DataFrame.from_dict(answers)\n",
    "#    adf = pd.concat([adf, tdf])\n",
    "#    i += 1 \n",
    "#adf = adf.reset_index()\n",
    "#adf = adf.to_csv(\"answers.csv\")"
   ]
  },
  {
   "cell_type": "code",
   "execution_count": 1,
   "metadata": {
    "collapsed": false,
    "scrolled": true
   },
   "outputs": [],
   "source": [
    "#Only run above when needed.\n",
    "import ast\n",
    "import pandas as pd\n",
    "userasklist = []\n",
    "useranswerlist = []\n",
    "questionlist = []\n",
    "adf = pd.read_csv(\"answers.csv\")\n",
    "qdf = pd.read_csv(\"questions.csv\")\n",
    "dq = {}\n",
    "dtag = {}\n",
    "for index, row in qdf.iterrows():\n",
    "    q = ast.literal_eval(row['items'])\n",
    "    if 'accepted_answer_id' in q and 'user_id' in q['owner']:\n",
    "        dq[q['question_id']] = q['owner']['user_id']\n",
    "        if 'tags' in q:\n",
    "            dtag[q['question_id']] = q['tags']\n",
    "        else:\n",
    "            dtag[q['question_id']] = []"
   ]
  },
  {
   "cell_type": "code",
   "execution_count": 25,
   "metadata": {
    "collapsed": false,
    "scrolled": true
   },
   "outputs": [
    {
     "data": {
      "text/html": [
       "<div>\n",
       "<table border=\"1\" class=\"dataframe\">\n",
       "  <thead>\n",
       "    <tr style=\"text-align: right;\">\n",
       "      <th></th>\n",
       "      <th>question</th>\n",
       "      <th>answered</th>\n",
       "      <th>asked</th>\n",
       "      <th>tags</th>\n",
       "    </tr>\n",
       "  </thead>\n",
       "  <tbody>\n",
       "    <tr>\n",
       "      <th>1034</th>\n",
       "      <td>41400317</td>\n",
       "      <td>2380830</td>\n",
       "      <td>6307513</td>\n",
       "      <td>[c++, memory, allocation]</td>\n",
       "    </tr>\n",
       "    <tr>\n",
       "      <th>1033</th>\n",
       "      <td>38234107</td>\n",
       "      <td>5764320</td>\n",
       "      <td>5764320</td>\n",
       "      <td>[osx, android-manifest, android-studio-2.1]</td>\n",
       "    </tr>\n",
       "    <tr>\n",
       "      <th>1032</th>\n",
       "      <td>39753721</td>\n",
       "      <td>4495824</td>\n",
       "      <td>2832872</td>\n",
       "      <td>[c++, std, ofstream]</td>\n",
       "    </tr>\n",
       "    <tr>\n",
       "      <th>1031</th>\n",
       "      <td>42977270</td>\n",
       "      <td>6008532</td>\n",
       "      <td>2570103</td>\n",
       "      <td>[c#, file, file-exists]</td>\n",
       "    </tr>\n",
       "    <tr>\n",
       "      <th>1030</th>\n",
       "      <td>39348213</td>\n",
       "      <td>6303600</td>\n",
       "      <td>6303600</td>\n",
       "      <td>[intellij-idea, angular, typescript, google-ch...</td>\n",
       "    </tr>\n",
       "    <tr>\n",
       "      <th>1029</th>\n",
       "      <td>38740648</td>\n",
       "      <td>41116</td>\n",
       "      <td>5571327</td>\n",
       "      <td>[ios, uiviewcontroller, swift3]</td>\n",
       "    </tr>\n",
       "    <tr>\n",
       "      <th>1028</th>\n",
       "      <td>38436847</td>\n",
       "      <td>335858</td>\n",
       "      <td>5962841</td>\n",
       "      <td>[c#, lazy-evaluation]</td>\n",
       "    </tr>\n",
       "    <tr>\n",
       "      <th>1027</th>\n",
       "      <td>37613550</td>\n",
       "      <td>6420110</td>\n",
       "      <td>919445</td>\n",
       "      <td>[ios, xcode]</td>\n",
       "    </tr>\n",
       "    <tr>\n",
       "      <th>1026</th>\n",
       "      <td>37576685</td>\n",
       "      <td>1048572</td>\n",
       "      <td>4033215</td>\n",
       "      <td>[javascript, node.js, promise, async-await, ec...</td>\n",
       "    </tr>\n",
       "  </tbody>\n",
       "</table>\n",
       "</div>"
      ],
      "text/plain": [
       "      question  answered    asked  \\\n",
       "1034  41400317   2380830  6307513   \n",
       "1033  38234107   5764320  5764320   \n",
       "1032  39753721   4495824  2832872   \n",
       "1031  42977270   6008532  2570103   \n",
       "1030  39348213   6303600  6303600   \n",
       "1029  38740648     41116  5571327   \n",
       "1028  38436847    335858  5962841   \n",
       "1027  37613550   6420110   919445   \n",
       "1026  37576685   1048572  4033215   \n",
       "\n",
       "                                                   tags  \n",
       "1034                          [c++, memory, allocation]  \n",
       "1033        [osx, android-manifest, android-studio-2.1]  \n",
       "1032                               [c++, std, ofstream]  \n",
       "1031                            [c#, file, file-exists]  \n",
       "1030  [intellij-idea, angular, typescript, google-ch...  \n",
       "1029                    [ios, uiviewcontroller, swift3]  \n",
       "1028                              [c#, lazy-evaluation]  \n",
       "1027                                       [ios, xcode]  \n",
       "1026  [javascript, node.js, promise, async-await, ec...  "
      ]
     },
     "metadata": {},
     "output_type": "display_data"
    },
    {
     "name": "stdout",
     "output_type": "stream",
     "text": [
      "None\n"
     ]
    }
   ],
   "source": [
    "from IPython.display import display\n",
    "da = {}\n",
    "for index, row in adf.iterrows():\n",
    "    q = ast.literal_eval(row['items'])\n",
    "    if 'user_id' in q['owner']:\n",
    "        da[q['question_id']] = q['owner']['user_id']\n",
    "    else:\n",
    "        #find a way to delete this\n",
    "        da[q['question_id']] = \"Null\"\n",
    "\n",
    "d = {\"asked\": pd.Series(dq.values(), index=dq.keys()), \n",
    "     \"answered\": pd.Series(da.values(), index=dq.keys()),\n",
    "     \"tags\":pd.Series(dtag.values(), index=dq.keys())}\n",
    "data = pd.DataFrame(d)\n",
    "data = data.reset_index()\n",
    "data = data.rename(columns = {'index':'question'})\n",
    "print display(data[:-10:-1])"
   ]
  },
  {
   "cell_type": "code",
   "execution_count": 77,
   "metadata": {
    "collapsed": false
   },
   "outputs": [],
   "source": [
    "import networkx as nx\n",
    "g = nx.from_pandas_dataframe(data, \"asked\", \"answered\", edge_attr=\"tags\")\n",
    "dataasked = data[[\"asked\",\"tags\"]]\n",
    "dataasked.columns = [\"id\",\"tags\"]\n",
    "dataanswered = data[[\"answered\",\"tags\"]]\n",
    "dataanswered.columns = [\"id\",\"tags\"]\n",
    "tagcheck = pd.concat([dataasked, dataanswered])\n",
    "tagcheck.set_index(\"id\")\n",
    "#print tagcheck.ix[:,0].tolist()\n",
    "for n, sd in g.nodes_iter(True):\n",
    "    if n in tagcheck.ix[:,0].tolist():\n",
    "        sd['tags'] = tagcheck.loc[tagcheck[\"id\"] == n , \"tags\"].values[0]"
   ]
  },
  {
   "cell_type": "code",
   "execution_count": 78,
   "metadata": {
    "collapsed": false
   },
   "outputs": [
    {
     "name": "stdout",
     "output_type": "stream",
     "text": [
      "6\n",
      "[(440558, 0.2692307692307693), (1774667, 0.2692307692307693), (4342498, 0.2692307692307693), (4987285, 0.2692307692307693), (560648, 0.07692307692307693), (4624156, 0.07692307692307693), (6149078, 0.07692307692307693), (43534, 0.038461538461538464), (147192, 0.038461538461538464)]\n"
     ]
    }
   ],
   "source": [
    "#calcualte diameter.  We must pick a subset that is entirely connected and check that diameter.  \n",
    "#We will use the biggest network\n",
    "bn = sorted(nx.connected_components(g), key=len, reverse=True)[0]\n",
    "g = g.subgraph(bn)\n",
    "print nx.diameter(g)\n",
    "print sorted(nx.degree_centrality(g).iteritems(), key=lambda(k, v): (-v, k))[0:9]"
   ]
  },
  {
   "cell_type": "code",
   "execution_count": 79,
   "metadata": {
    "collapsed": true
   },
   "outputs": [],
   "source": [
    "#change graph to just the largest network\n",
    "so_nodes = g.nodes()\n",
    "so_edges = g.edges()"
   ]
  },
  {
   "cell_type": "code",
   "execution_count": 80,
   "metadata": {
    "collapsed": false
   },
   "outputs": [
    {
     "data": {
      "application/javascript": [
       "$(\"head\").append($(\"<link/>\").attr({\n",
       "  rel:  \"stylesheet\",\n",
       "  type: \"text/css\",\n",
       "  href: \"//cdnjs.cloudflare.com/ajax/libs/font-awesome/4.1.0/css/font-awesome.min.css\"\n",
       "}));\n",
       "$(\"head\").append($(\"<link/>\").attr({\n",
       "  rel:  \"stylesheet\",\n",
       "  type: \"text/css\",\n",
       "  href: \"https://static.turi.com/products/graphlab-create/2.1/canvas/css/canvas.css\"\n",
       "}));\n",
       "\n",
       "            (function(){\n",
       "\n",
       "                var e = null;\n",
       "                if (typeof element == 'undefined') {\n",
       "                    var scripts = document.getElementsByTagName('script');\n",
       "                    var thisScriptTag = scripts[scripts.length-1];\n",
       "                    var parentDiv = thisScriptTag.parentNode;\n",
       "                    e = document.createElement('div');\n",
       "                    parentDiv.appendChild(e);\n",
       "                } else {\n",
       "                    e = element[0];\n",
       "                }\n",
       "\n",
       "                if (typeof requirejs !== 'undefined') {\n",
       "                    // disable load timeout; ipython_app.js is large and can take a while to load.\n",
       "                    requirejs.config({waitSeconds: 0});\n",
       "                }\n",
       "\n",
       "                require(['https://static.turi.com/products/graphlab-create/2.1/canvas/js/ipython_app.js'], function(IPythonApp){\n",
       "                    var app = new IPythonApp();\n",
       "                    app.attachView('sgraph','View', {\"edges_labels\": null, \"selected_variable\": {\"name\": [\"so_graph\"], \"view_file\": \"sgraph\", \"view_component\": \"View\", \"view_params\": {\"elabel_hover\": false, \"vertex_positions\": null, \"h_offset\": 0.0, \"node_size\": 300, \"ecolor\": [0.37, 0.33, 0.33], \"elabel\": null, \"arrows\": true, \"ewidth\": 1, \"vlabel\": \"id\", \"highlight_color\": [0.69, 0.0, 0.498], \"vcolor\": [0.522, 0.741, 0.0], \"vlabel_hover\": false, \"highlight\": {}, \"v_offset\": 0.03}, \"view_components\": [\"View\"], \"type\": \"SGraph\", \"descriptives_links\": {\"edges\": \"edges\", \"vertices\": \"vertices\"}, \"descriptives\": {\"edges\": 27, \"vertices\": 27}}, \"positions\": null, \"error_type\": 0, \"vertices\": [6920495, 5835947, 1296806, 5405086, 4671117, 3287785, 2545680, 4342498, 440558, 6881884, 1832221, 147192, 179910, 6483824, 6149078, 1438838, 1575613, 675100, 43534, 4624156, 4987285, 853791, 7867195, 560648, 1774667, 463300, 7140484], \"vertices_labels\": [6920495, 5835947, 1296806, 5405086, 4671117, 3287785, 2545680, 4342498, 440558, 6881884, 1832221, 147192, 179910, 6483824, 6149078, 1438838, 1575613, 675100, 43534, 4624156, 4987285, 853791, 7867195, 560648, 1774667, 463300, 7140484], \"edges\": [[5405086, 4342498], [1296806, 4342498], [5835947, 440558], [4671117, 1774667], [6920495, 1774667], [1832221, 440558], [6881884, 4342498], [4342498, 6483824], [2545680, 4624156], [179910, 440558], [6149078, 440558], [6149078, 147192], [1575613, 4342498], [43534, 4987285], [675100, 1774667], [4987285, 3287785], [4987285, 440558], [4624156, 440558], [4987285, 4987285], [4987285, 7867195], [4987285, 1774667], [853791, 1774667], [560648, 4342498], [560648, 440558], [463300, 4342498], [1774667, 1438838], [7140484, 1774667]], \"ipython\": true, \"error_msg\": \"\"}, e);\n",
       "                });\n",
       "            })();\n",
       "        "
      ]
     },
     "metadata": {},
     "output_type": "display_data"
    }
   ],
   "source": [
    "from graphlab import SGraph, Vertex, Edge, canvas\n",
    "canvas.set_target('ipynb')\n",
    "so_graph = SGraph()\n",
    "nodelist = []\n",
    "for i in so_nodes:\n",
    "    nodelist.append(Vertex(i))\n",
    "so_graph = so_graph.add_vertices(nodelist)\n",
    "for i, j in so_edges:\n",
    "    so_graph = so_graph.add_edges(Edge(i,j))\n",
    "so_graph.show(vlabel='id', arrows=True)"
   ]
  },
  {
   "cell_type": "code",
   "execution_count": 71,
   "metadata": {
    "collapsed": false
   },
   "outputs": [
    {
     "name": "stdout",
     "output_type": "stream",
     "text": [
      "{7140484: [u'c++', u'function-pointers', u'function-object', u'inlining'], 560648: [u'c++', u'c++14', u'return-type-deduction'], 4671117: [u'firebase', u'firebase-console'], 43534: [u'c++', u'c++11', u'templates', u'exception-handling', u'typetraits'], 2545680: [u'javascript'], 4987285: [u'c++', u'c++11', u'destructor'], 4624156: [u'android-studio', u'kotlin'], 1832221: [u'android', u'android-layout', u'preview', u'android-studio-2.2', u'android-layout-editor'], 5405086: [u'c++', u'memory-alignment', u'bit-fields', u'memory-layout', u'object-layout'], 853791: [u'c++', u'c++11', u'c++14', u'decltype', u'type-deduction'], 1296806: [u'scala'], 675100: [u'c++', u'string', u'c++1z', u'string-view'], 5835947: [u'java', u'exception', u'exception-handling'], 6920495: [u'android', u'android-support-design', u'bottomnavigationview'], 7867195: [u'java'], 1575613: [u'ios', u'itunesconnect'], 463300: [u'python', u'short-circuiting'], 179910: [u'c', u'semicolon', u'freeform'], 1774667: [u'c++', u'c++11', u'c++14', u'decltype', u'type-deduction'], 6149078: [u'c++', u'c', u'alignment', u'sizeof'], 6881884: [u'c++', u'hash'], 4342498: [u'c++', u'string', u'c++11', u'c++14', u'arrayaccess'], 3287785: [u'ios', u'xcode', u'swift', u'core-data', u'swift3'], 440558: [u'c', u'semicolon', u'freeform'], 6483824: [u'c++', u'c++11', u'c++14', u'language-lawyer', u'move-semantics'], 1438838: [u'javascript', u'redux'], 147192: [u'c++', u'c', u'struct', u'memory-alignment']}\n"
     ]
    }
   ],
   "source": [
    "print nx.get_node_attributes(g , 'tags')"
   ]
  },
  {
   "cell_type": "code",
   "execution_count": null,
   "metadata": {
    "collapsed": true
   },
   "outputs": [],
   "source": []
  }
 ],
 "metadata": {
  "kernelspec": {
   "display_name": "Python 2",
   "language": "python",
   "name": "python2"
  },
  "language_info": {
   "codemirror_mode": {
    "name": "ipython",
    "version": 2
   },
   "file_extension": ".py",
   "mimetype": "text/x-python",
   "name": "python",
   "nbconvert_exporter": "python",
   "pygments_lexer": "ipython2",
   "version": "2.7.11"
  }
 },
 "nbformat": 4,
 "nbformat_minor": 0
}
