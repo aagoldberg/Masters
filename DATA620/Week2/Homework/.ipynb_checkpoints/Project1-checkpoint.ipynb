{
 "cells": [
  {
   "cell_type": "code",
   "execution_count": 73,
   "metadata": {
    "collapsed": false,
    "scrolled": true
   },
   "outputs": [],
   "source": [
    "from stackapi import StackAPI\n",
    "import pandas as pd\n",
    "SITE = StackAPI('stackoverflow')"
   ]
  },
  {
   "cell_type": "code",
   "execution_count": 79,
   "metadata": {
    "collapsed": false
   },
   "outputs": [],
   "source": [
    "questions = SITE.fetch('questions', fromdate=1457136000, todate=1478222400,\n",
    "                       min=20, sort='votes')\n",
    "qdf = pd.DataFrame.from_dict(questions)\n",
    "qdf = qdf.to_csv(\"questions.csv\")"
   ]
  },
  {
   "cell_type": "code",
   "execution_count": 98,
   "metadata": {
    "collapsed": false
   },
   "outputs": [],
   "source": [
    "import ast\n",
    "answerlist = []\n",
    "qdf = pd.read_csv(\"questions.csv\")\n",
    "for index, row in qdf.iterrows():\n",
    "    rd = ast.literal_eval(row['items'])\n",
    "    if 'accepted_answer_id' in rd and 'user_id' in rd['owner']:\n",
    "        answerlist.append(rd['accepted_answer_id'])"
   ]
  },
  {
   "cell_type": "code",
   "execution_count": 99,
   "metadata": {
    "collapsed": false
   },
   "outputs": [],
   "source": [
    "numiters = int(len(answerlist) / 99)\n",
    "adf = {}\n",
    "if numiters == 0:\n",
    "    answers = SITE.fetch('/answers/{ids}', ids=answerlist)\n",
    "else:\n",
    "    answers = SITE.fetch('/answers/{ids}', ids=answerlist[:99])\n",
    "    adf = pd.DataFrame.from_dict(answers)\n",
    "    j = 99\n",
    "    k = j + 99\n",
    "    for i in range(0, numiters):\n",
    "        answers = SITE.fetch('/answers/{ids}', ids=answerlist[j:k])\n",
    "        temp = pd.DataFrame.from_dict(answers)\n",
    "        adf = pd.concat([adf, temp])\n",
    "        j = j + 99\n",
    "        k = k + 99\n",
    "adf = adf.reset_index()\n",
    "adf = adf.to_csv(\"answers.csv\")"
   ]
  },
  {
   "cell_type": "code",
   "execution_count": 109,
   "metadata": {
    "collapsed": false,
    "scrolled": true
   },
   "outputs": [],
   "source": [
    "#Only run above when needed.\n",
    "import ast\n",
    "import pandas as pd\n",
    "userasklist = []\n",
    "useranswerlist = []\n",
    "questionlist = []\n",
    "adf = pd.read_csv(\"answers.csv\")\n",
    "qdf = pd.read_csv(\"questions.csv\")\n",
    "dq = {}\n",
    "for index, row in qdf.iterrows():\n",
    "    q = ast.literal_eval(row['items'])\n",
    "    if 'accepted_answer_id' in q and 'user_id' in q['owner']:\n",
    "        dq[q['question_id']] = q['owner']['user_id']"
   ]
  },
  {
   "cell_type": "code",
   "execution_count": 110,
   "metadata": {
    "collapsed": false,
    "scrolled": true
   },
   "outputs": [
    {
     "name": "stdout",
     "output_type": "stream",
     "text": [
      "     question answered    asked\n",
      "0    38516736  2257100   722393\n",
      "1    40282118  1774667   853791\n",
      "2    38569992  6635732  4599914\n",
      "3    36438034  1048572   596041\n",
      "4    36597780  5968600  1219368\n",
      "5    37124120  6312516  3364192\n",
      "6    39506949    88656  3774685\n",
      "7    37945376    95060    95060\n",
      "8    37449761   209103  1174302\n",
      "9    37548066   819742    88522\n",
      "10   35987493    60281   964080\n",
      "11   36872230   335858  5619103\n",
      "12   39288891   415784  1027706\n",
      "13   38713405  6052290  2629219\n",
      "14   37812286  2227743  5393528\n",
      "15   37800001   743382  6461611\n",
      "16   38574148   459640  2817885\n",
      "17   38870710  3758710  4507367\n",
      "18   37904739   524555  5262010\n",
      "19   37371990   209103  5582307\n",
      "20   38453335   984780  5333340\n",
      "21   36407386    17034  3980929\n",
      "22   37843049  5644794  1082219\n",
      "23   38813819  1433362  6687886\n",
      "24   39215229  5818824   752630\n",
      "25   40167559   246886  6794772\n",
      "26   39471241  3032289  1082379\n",
      "27   39399563  1002119  1002119\n",
      "28   36759694  6170636  2032608\n",
      "29   36411536  1177901  1177901\n",
      "..        ...      ...      ...\n",
      "385  40081279  5910563   680031\n",
      "386  39391107   106159     7586\n",
      "387  36231047   139985  5766170\n",
      "388  37142411  1076640   327301\n",
      "389  40308623   765965   771848\n",
      "390  38428561  4367864  2731834\n",
      "391  38764435  2315602  2682991\n",
      "392  36722584   458193   971260\n",
      "393  37318561  6290269  4540267\n",
      "394  36814755  2870138  2870138\n",
      "395  36548518   918959  1658617\n",
      "396  35839913   743382  5284180\n",
      "397  35932074   215945   215945\n",
      "398  36628418  1011527  1011527\n",
      "399  40376260  5353753  5581135\n",
      "400  39792581   584518  1816262\n",
      "401  37267399   213550  4656411\n",
      "402  39063499  4573247  3623047\n",
      "403  38295501  2705542  6510497\n",
      "404  36683726  5514663  4917411\n",
      "405  38670295     3279  1277335\n",
      "406  38498275  1570496  3338583\n",
      "407  39964651   839689   839689\n",
      "408  37576685  1048572  4033215\n",
      "409  37613550  6420110   919445\n",
      "410  38436847   335858  5962841\n",
      "411  39753721  4495824  2832872\n",
      "412  37328890  1107651  2151569\n",
      "413  37347326   333733    73148\n",
      "414  39711061   768110  1270257\n",
      "\n",
      "[415 rows x 3 columns]\n"
     ]
    }
   ],
   "source": [
    "da = {}\n",
    "for index, row in adf.iterrows():\n",
    "    q = ast.literal_eval(row['items'])\n",
    "    if 'user_id' in q['owner']:\n",
    "        da[q['question_id']] = q['owner']['user_id']\n",
    "    else:\n",
    "        #find a way to delete this\n",
    "        da[q['question_id']] = \"Null\"\n",
    "\n",
    "d = {\"asked\": pd.Series(dq.values(), index=dq.keys()), \"answered\": pd.Series(da.values(), index=dq.keys())}\n",
    "data = pd.DataFrame(d)\n",
    "data = data.reset_index()\n",
    "data = data.rename(columns = {'index':'question'})\n",
    "print data"
   ]
  },
  {
   "cell_type": "code",
   "execution_count": 106,
   "metadata": {
    "collapsed": false
   },
   "outputs": [
    {
     "ename": "KeyboardInterrupt",
     "evalue": "",
     "output_type": "error",
     "traceback": [
      "\u001b[1;31m---------------------------------------------------------------------------\u001b[0m",
      "\u001b[1;31mKeyboardInterrupt\u001b[0m                         Traceback (most recent call last)",
      "\u001b[1;32m<ipython-input-106-8d0aafc09b8e>\u001b[0m in \u001b[0;36m<module>\u001b[1;34m()\u001b[0m\n\u001b[0;32m      9\u001b[0m \u001b[1;32mfor\u001b[0m \u001b[0mindex\u001b[0m\u001b[1;33m,\u001b[0m \u001b[0mrow\u001b[0m \u001b[1;32min\u001b[0m \u001b[0mdata\u001b[0m\u001b[1;33m.\u001b[0m\u001b[0miterrows\u001b[0m\u001b[1;33m(\u001b[0m\u001b[1;33m)\u001b[0m\u001b[1;33m:\u001b[0m\u001b[1;33m\u001b[0m\u001b[0m\n\u001b[0;32m     10\u001b[0m     \u001b[0mgraph\u001b[0m \u001b[1;33m=\u001b[0m \u001b[0mgraph\u001b[0m\u001b[1;33m.\u001b[0m\u001b[0madd_edges\u001b[0m\u001b[1;33m(\u001b[0m\u001b[0mEdge\u001b[0m\u001b[1;33m(\u001b[0m\u001b[0mrow\u001b[0m\u001b[1;33m[\u001b[0m\u001b[1;34m'asked'\u001b[0m\u001b[1;33m]\u001b[0m\u001b[1;33m,\u001b[0m \u001b[0mrow\u001b[0m\u001b[1;33m[\u001b[0m\u001b[1;34m'answered'\u001b[0m\u001b[1;33m]\u001b[0m\u001b[1;33m)\u001b[0m\u001b[1;33m)\u001b[0m\u001b[1;33m\u001b[0m\u001b[0m\n\u001b[1;32m---> 11\u001b[1;33m \u001b[0mgraph\u001b[0m\u001b[1;33m.\u001b[0m\u001b[0mshow\u001b[0m\u001b[1;33m(\u001b[0m\u001b[0mvlabel\u001b[0m \u001b[1;33m=\u001b[0m \u001b[1;34m'id'\u001b[0m\u001b[1;33m)\u001b[0m\u001b[1;33m\u001b[0m\u001b[0m\n\u001b[0m",
      "\u001b[1;32mC:\\Users\\jgrando\\AppData\\Local\\Continuum\\Anaconda2\\envs\\gl-env\\lib\\site-packages\\graphlab\\data_structures\\sgraph.pyc\u001b[0m in \u001b[0;36mshow\u001b[1;34m(self, vlabel, vlabel_hover, vcolor, highlight, highlight_color, node_size, elabel, elabel_hover, ecolor, ewidth, v_offset, h_offset, arrows, vertex_positions)\u001b[0m\n\u001b[0;32m   1182\u001b[0m              \u001b[0mh_offset\u001b[0m\u001b[1;33m=\u001b[0m\u001b[0mh_offset\u001b[0m\u001b[1;33m,\u001b[0m\u001b[1;33m\u001b[0m\u001b[0m\n\u001b[0;32m   1183\u001b[0m              \u001b[0marrows\u001b[0m\u001b[1;33m=\u001b[0m\u001b[0marrows\u001b[0m\u001b[1;33m,\u001b[0m\u001b[1;33m\u001b[0m\u001b[0m\n\u001b[1;32m-> 1184\u001b[1;33m              vertex_positions=vertex_positions)\n\u001b[0m\u001b[0;32m   1185\u001b[0m \u001b[1;33m\u001b[0m\u001b[0m\n\u001b[0;32m   1186\u001b[0m     \u001b[1;32mdef\u001b[0m \u001b[0mget_neighborhood\u001b[0m\u001b[1;33m(\u001b[0m\u001b[0mself\u001b[0m\u001b[1;33m,\u001b[0m \u001b[0mids\u001b[0m\u001b[1;33m,\u001b[0m \u001b[0mradius\u001b[0m\u001b[1;33m=\u001b[0m\u001b[1;36m1\u001b[0m\u001b[1;33m,\u001b[0m \u001b[0mfull_subgraph\u001b[0m\u001b[1;33m=\u001b[0m\u001b[0mTrue\u001b[0m\u001b[1;33m)\u001b[0m\u001b[1;33m:\u001b[0m\u001b[1;33m\u001b[0m\u001b[0m\n",
      "\u001b[1;32mC:\\Users\\jgrando\\AppData\\Local\\Continuum\\Anaconda2\\envs\\gl-env\\lib\\site-packages\\multipledispatch\\dispatcher.pyc\u001b[0m in \u001b[0;36m__call__\u001b[1;34m(self, *args, **kwargs)\u001b[0m\n\u001b[0;32m    162\u001b[0m             \u001b[0mself\u001b[0m\u001b[1;33m.\u001b[0m\u001b[0m_cache\u001b[0m\u001b[1;33m[\u001b[0m\u001b[0mtypes\u001b[0m\u001b[1;33m]\u001b[0m \u001b[1;33m=\u001b[0m \u001b[0mfunc\u001b[0m\u001b[1;33m\u001b[0m\u001b[0m\n\u001b[0;32m    163\u001b[0m         \u001b[1;32mtry\u001b[0m\u001b[1;33m:\u001b[0m\u001b[1;33m\u001b[0m\u001b[0m\n\u001b[1;32m--> 164\u001b[1;33m             \u001b[1;32mreturn\u001b[0m \u001b[0mfunc\u001b[0m\u001b[1;33m(\u001b[0m\u001b[1;33m*\u001b[0m\u001b[0margs\u001b[0m\u001b[1;33m,\u001b[0m \u001b[1;33m**\u001b[0m\u001b[0mkwargs\u001b[0m\u001b[1;33m)\u001b[0m\u001b[1;33m\u001b[0m\u001b[0m\n\u001b[0m\u001b[0;32m    165\u001b[0m \u001b[1;33m\u001b[0m\u001b[0m\n\u001b[0;32m    166\u001b[0m         \u001b[1;32mexcept\u001b[0m \u001b[0mMDNotImplementedError\u001b[0m\u001b[1;33m:\u001b[0m\u001b[1;33m\u001b[0m\u001b[0m\n",
      "\u001b[1;32mC:\\Users\\jgrando\\AppData\\Local\\Continuum\\Anaconda2\\envs\\gl-env\\lib\\site-packages\\graphlab\\canvas\\glc_display_dispatch.pyc\u001b[0m in \u001b[0;36mshow\u001b[1;34m(obj, **kwargs)\u001b[0m\n\u001b[0;32m     47\u001b[0m             \u001b[0mkwargs\u001b[0m\u001b[1;33m[\u001b[0m\u001b[1;34m'highlight'\u001b[0m\u001b[1;33m]\u001b[0m \u001b[1;33m=\u001b[0m \u001b[0mhighlight\u001b[0m\u001b[1;33m\u001b[0m\u001b[0m\n\u001b[0;32m     48\u001b[0m             \u001b[0mkwargs\u001b[0m\u001b[1;33m[\u001b[0m\u001b[1;34m'highlight_color'\u001b[0m\u001b[1;33m]\u001b[0m \u001b[1;33m=\u001b[0m \u001b[0mhighlight_color\u001b[0m\u001b[1;33m\u001b[0m\u001b[0m\n\u001b[1;32m---> 49\u001b[1;33m     \u001b[1;32mreturn\u001b[0m \u001b[0mgraphlab\u001b[0m\u001b[1;33m.\u001b[0m\u001b[0mcanvas\u001b[0m\u001b[1;33m.\u001b[0m\u001b[0mshow\u001b[0m\u001b[1;33m(\u001b[0m\u001b[0mgraphlab\u001b[0m\u001b[1;33m.\u001b[0m\u001b[0mcanvas\u001b[0m\u001b[1;33m.\u001b[0m\u001b[0mviews\u001b[0m\u001b[1;33m.\u001b[0m\u001b[0msgraph\u001b[0m\u001b[1;33m.\u001b[0m\u001b[0mSGraphView\u001b[0m\u001b[1;33m(\u001b[0m\u001b[0mobj\u001b[0m\u001b[1;33m,\u001b[0m \u001b[0mparams\u001b[0m\u001b[1;33m=\u001b[0m\u001b[0mkwargs\u001b[0m\u001b[1;33m)\u001b[0m\u001b[1;33m)\u001b[0m\u001b[1;33m\u001b[0m\u001b[0m\n\u001b[0m\u001b[0;32m     50\u001b[0m \u001b[1;33m\u001b[0m\u001b[0m\n\u001b[0;32m     51\u001b[0m \u001b[1;33m\u001b[0m\u001b[0m\n",
      "\u001b[1;32mC:\\Users\\jgrando\\AppData\\Local\\Continuum\\Anaconda2\\envs\\gl-env\\lib\\site-packages\\graphlab\\canvas\\utils.pyc\u001b[0m in \u001b[0;36mshow\u001b[1;34m(variable)\u001b[0m\n\u001b[0;32m    129\u001b[0m         \u001b[0mget_target\u001b[0m\u001b[1;33m(\u001b[0m\u001b[1;33m)\u001b[0m\u001b[1;33m.\u001b[0m\u001b[0mstate\u001b[0m\u001b[1;33m.\u001b[0m\u001b[0mset_selected_variable\u001b[0m\u001b[1;33m(\u001b[0m\u001b[0mvariable\u001b[0m\u001b[1;33m)\u001b[0m\u001b[1;33m\u001b[0m\u001b[0m\n\u001b[0;32m    130\u001b[0m         \u001b[0mvariable\u001b[0m\u001b[1;33m.\u001b[0m\u001b[0mvalidate_js_component_name\u001b[0m\u001b[1;33m(\u001b[0m\u001b[0mvariable\u001b[0m\u001b[1;33m.\u001b[0m\u001b[0mget_js_component\u001b[0m\u001b[1;33m(\u001b[0m\u001b[1;33m)\u001b[0m\u001b[1;33m)\u001b[0m\u001b[1;33m\u001b[0m\u001b[0m\n\u001b[1;32m--> 131\u001b[1;33m     \u001b[1;32mreturn\u001b[0m \u001b[0mget_target\u001b[0m\u001b[1;33m(\u001b[0m\u001b[1;33m)\u001b[0m\u001b[1;33m.\u001b[0m\u001b[0mshow\u001b[0m\u001b[1;33m(\u001b[0m\u001b[1;33m)\u001b[0m\u001b[1;33m\u001b[0m\u001b[0m\n\u001b[0m\u001b[0;32m    132\u001b[0m \u001b[1;33m\u001b[0m\u001b[0m\n\u001b[0;32m    133\u001b[0m \u001b[1;32mdef\u001b[0m \u001b[0m_get_id\u001b[0m\u001b[1;33m(\u001b[0m\u001b[0mref\u001b[0m\u001b[1;33m)\u001b[0m\u001b[1;33m:\u001b[0m\u001b[1;33m\u001b[0m\u001b[0m\n",
      "\u001b[1;32mC:\\Users\\jgrando\\AppData\\Local\\Continuum\\Anaconda2\\envs\\gl-env\\lib\\site-packages\\graphlab\\canvas\\target.pyc\u001b[0m in \u001b[0;36mshow\u001b[1;34m(self, variable)\u001b[0m\n\u001b[0;32m    164\u001b[0m \u001b[1;33m\u001b[0m\u001b[0m\n\u001b[0;32m    165\u001b[0m         \u001b[0mdata\u001b[0m \u001b[1;33m=\u001b[0m \u001b[0mNone\u001b[0m\u001b[1;33m\u001b[0m\u001b[0m\n\u001b[1;32m--> 166\u001b[1;33m         \u001b[0mselected_variable\u001b[0m \u001b[1;33m=\u001b[0m \u001b[0mgraphlab\u001b[0m\u001b[1;33m.\u001b[0m\u001b[0mcanvas\u001b[0m\u001b[1;33m.\u001b[0m\u001b[0mhandlers\u001b[0m\u001b[1;33m.\u001b[0m\u001b[0mexpand_selected_variable\u001b[0m\u001b[1;33m(\u001b[0m\u001b[0mself\u001b[0m\u001b[1;33m.\u001b[0m\u001b[0mstate\u001b[0m\u001b[1;33m)\u001b[0m\u001b[1;33m\u001b[0m\u001b[0m\n\u001b[0m\u001b[0;32m    167\u001b[0m         data = {\n\u001b[0;32m    168\u001b[0m             \u001b[1;34m'selected_variable'\u001b[0m\u001b[1;33m:\u001b[0m \u001b[0mselected_variable\u001b[0m\u001b[1;33m,\u001b[0m\u001b[1;33m\u001b[0m\u001b[0m\n",
      "\u001b[1;32mC:\\Users\\jgrando\\AppData\\Local\\Continuum\\Anaconda2\\envs\\gl-env\\lib\\site-packages\\graphlab\\canvas\\handlers.pyc\u001b[0m in \u001b[0;36mexpand_selected_variable\u001b[1;34m(state)\u001b[0m\n\u001b[0;32m     68\u001b[0m         \u001b[1;34m'view_components'\u001b[0m\u001b[1;33m:\u001b[0m \u001b[0mvar\u001b[0m\u001b[1;33m.\u001b[0m\u001b[0mget_js_components\u001b[0m\u001b[1;33m(\u001b[0m\u001b[1;33m)\u001b[0m\u001b[1;33m\u001b[0m\u001b[0m\n\u001b[0;32m     69\u001b[0m     };\n\u001b[1;32m---> 70\u001b[1;33m     \u001b[0mdata\u001b[0m\u001b[1;33m.\u001b[0m\u001b[0mupdate\u001b[0m\u001b[1;33m(\u001b[0m\u001b[0mvar\u001b[0m\u001b[1;33m.\u001b[0m\u001b[0mget_metadata\u001b[0m\u001b[1;33m(\u001b[0m\u001b[1;33m)\u001b[0m\u001b[1;33m)\u001b[0m\u001b[1;33m\u001b[0m\u001b[0m\n\u001b[0m\u001b[0;32m     71\u001b[0m     \u001b[1;32mreturn\u001b[0m \u001b[0mdata\u001b[0m\u001b[1;33m\u001b[0m\u001b[0m\n\u001b[0;32m     72\u001b[0m \u001b[1;33m\u001b[0m\u001b[0m\n",
      "\u001b[1;32mC:\\Users\\jgrando\\AppData\\Local\\Continuum\\Anaconda2\\envs\\gl-env\\lib\\site-packages\\graphlab\\canvas\\views\\sgraph.pyc\u001b[0m in \u001b[0;36mget_metadata\u001b[1;34m(self)\u001b[0m\n\u001b[0;32m     21\u001b[0m         return {\n\u001b[0;32m     22\u001b[0m             'descriptives': {\n\u001b[1;32m---> 23\u001b[1;33m                 \u001b[1;34m'vertices'\u001b[0m\u001b[1;33m:\u001b[0m \u001b[0mself\u001b[0m\u001b[1;33m.\u001b[0m\u001b[0mobj\u001b[0m\u001b[1;33m.\u001b[0m\u001b[0msummary\u001b[0m\u001b[1;33m(\u001b[0m\u001b[1;33m)\u001b[0m\u001b[1;33m[\u001b[0m\u001b[1;34m'num_vertices'\u001b[0m\u001b[1;33m]\u001b[0m\u001b[1;33m,\u001b[0m\u001b[1;33m\u001b[0m\u001b[0m\n\u001b[0m\u001b[0;32m     24\u001b[0m                 \u001b[1;34m'edges'\u001b[0m\u001b[1;33m:\u001b[0m \u001b[0mself\u001b[0m\u001b[1;33m.\u001b[0m\u001b[0mobj\u001b[0m\u001b[1;33m.\u001b[0m\u001b[0msummary\u001b[0m\u001b[1;33m(\u001b[0m\u001b[1;33m)\u001b[0m\u001b[1;33m[\u001b[0m\u001b[1;34m'num_edges'\u001b[0m\u001b[1;33m]\u001b[0m\u001b[1;33m\u001b[0m\u001b[0m\n\u001b[0;32m     25\u001b[0m             },\n",
      "\u001b[1;32mC:\\Users\\jgrando\\AppData\\Local\\Continuum\\Anaconda2\\envs\\gl-env\\lib\\site-packages\\graphlab\\data_structures\\sgraph.pyc\u001b[0m in \u001b[0;36msummary\u001b[1;34m(self)\u001b[0m\n\u001b[0;32m    384\u001b[0m         \u001b[1;36m0\u001b[0m\u001b[1;33m\u001b[0m\u001b[0m\n\u001b[0;32m    385\u001b[0m         \"\"\"\n\u001b[1;32m--> 386\u001b[1;33m         \u001b[0mret\u001b[0m \u001b[1;33m=\u001b[0m \u001b[0mself\u001b[0m\u001b[1;33m.\u001b[0m\u001b[0m__proxy__\u001b[0m\u001b[1;33m.\u001b[0m\u001b[0msummary\u001b[0m\u001b[1;33m(\u001b[0m\u001b[1;33m)\u001b[0m\u001b[1;33m\u001b[0m\u001b[0m\n\u001b[0m\u001b[0;32m    387\u001b[0m         \u001b[1;32mreturn\u001b[0m \u001b[0mdict\u001b[0m\u001b[1;33m(\u001b[0m\u001b[0mret\u001b[0m\u001b[1;33m.\u001b[0m\u001b[0mitems\u001b[0m\u001b[1;33m(\u001b[0m\u001b[1;33m)\u001b[0m\u001b[1;33m)\u001b[0m\u001b[1;33m\u001b[0m\u001b[0m\n\u001b[0;32m    388\u001b[0m \u001b[1;33m\u001b[0m\u001b[0m\n",
      "\u001b[1;31mKeyboardInterrupt\u001b[0m: "
     ]
    }
   ],
   "source": [
    "from graphlab import SGraph, Vertex, Edge, canvas\n",
    "canvas.set_target('ipynb')\n",
    "graph = SGraph()\n",
    "nodelist = []\n",
    "for index, row in data.iterrows():\n",
    "    nodelist.append(Vertex(row['asked']))\n",
    "    nodelist.append(Vertex(row['answered']))\n",
    "graph = graph.add_vertices(nodelist)\n",
    "for index, row in data.iterrows():\n",
    "    graph = graph.add_edges(Edge(row['asked'], row['answered']))\n",
    "graph.show(vlabel = 'id')"
   ]
  },
  {
   "cell_type": "code",
   "execution_count": 111,
   "metadata": {
    "collapsed": false
   },
   "outputs": [],
   "source": [
    "import networkx as nx\n",
    "\n",
    "g = nx.from_pandas_dataframe(data, \"asked\", \"answered\")"
   ]
  },
  {
   "cell_type": "code",
   "execution_count": 112,
   "metadata": {
    "collapsed": false
   },
   "outputs": [
    {
     "name": "stdout",
     "output_type": "stream",
     "text": [
      "5\n",
      "[(217408, 0.6153846153846154), (674039L, 0.23076923076923078), (1782465, 0.23076923076923078), (2069064L, 0.15384615384615385), (1401634L, 0.07692307692307693), (2622314L, 0.07692307692307693), (2822252L, 0.07692307692307693), (2951897L, 0.07692307692307693), (2998612L, 0.07692307692307693)]\n"
     ]
    }
   ],
   "source": [
    "#calcualte diameter.  We must pick a subset that is entirely connected and check that diameter.  \n",
    "#We will use the biggest network\n",
    "bn = sorted(nx.connected_components(g), key=len, reverse=True)[0]\n",
    "g = g.subgraph(bn)\n",
    "print nx.diameter(g)\n",
    "print sorted(nx.degree_centrality(g).iteritems(), key=lambda(k, v): (-v, k))[0:9]"
   ]
  },
  {
   "cell_type": "code",
   "execution_count": null,
   "metadata": {
    "collapsed": true
   },
   "outputs": [],
   "source": []
  }
 ],
 "metadata": {
  "kernelspec": {
   "display_name": "Python 2",
   "language": "python",
   "name": "python2"
  },
  "language_info": {
   "codemirror_mode": {
    "name": "ipython",
    "version": 2
   },
   "file_extension": ".py",
   "mimetype": "text/x-python",
   "name": "python",
   "nbconvert_exporter": "python",
   "pygments_lexer": "ipython2",
   "version": "2.7.11"
  }
 },
 "nbformat": 4,
 "nbformat_minor": 0
}
