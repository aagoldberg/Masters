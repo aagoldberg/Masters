{
 "cells": [
  {
   "cell_type": "code",
   "execution_count": 16,
   "metadata": {
    "collapsed": false
   },
   "outputs": [
    {
     "name": "stdout",
     "output_type": "stream",
     "text": [
      "[u'count', u'sort', u'facets', u'results', u'search_facets']\n",
      "{u'owner_org': u'6d90e48d-3076-4327-b2f4-c33919f374d5', u'maintainer': None, u'relationships_as_object': [], u'private': False, u'maintainer_email': None, u'num_tags': 0, u'id': u'159cd880-f4eb-49a2-bea0-5c719c490058', u'metadata_created': u'2016-09-24T15:28:53.130447', u'metadata_modified': u'2016-09-24T15:28:53.130447', u'author': None, u'author_email': None, u'state': u'active', u'version': None, u'license_id': None, u'type': u'dataset', u'resources': [{u'cache_last_updated': None, u'package_id': u'159cd880-f4eb-49a2-bea0-5c719c490058', u'webstore_last_updated': None, u'id': u'a0f2ace0-f3f3-47a6-993c-63a5b37a2db6', u'size': None, u'state': u'active', u'resource_locator_function': u'', u'hash': u'', u'description': u'FRS_Wastewater.zip', u'format': u'ZIP', u'tracking_summary': {u'total': 168, u'recent': 20}, u'mimetype_inner': None, u'url_type': None, u'resource_locator_protocol': u'', u'no_real_name': u'True', u'mimetype': None, u'cache_url': None, u'name': u'Zip File', u'created': u'2016-09-24T11:28:53.233583', u'url': u'https://edg.epa.gov/data/PUBLIC/OEI/OIC/FRS_Wastewater.zip', u'webstore_url': None, u'last_modified': None, u'position': 0, u'revision_id': u'c4595732-d3f1-4581-8497-684eccdb315d', u'resource_type': None}, {u'cache_last_updated': None, u'package_id': u'159cd880-f4eb-49a2-bea0-5c719c490058', u'webstore_last_updated': None, u'id': u'1bfae475-9f76-45e8-802a-963f51cfd10b', u'size': None, u'state': u'active', u'resource_locator_function': u'', u'hash': u'', u'description': u'', u'format': u'Esri REST', u'tracking_summary': {u'total': 41, u'recent': 3}, u'mimetype_inner': None, u'url_type': None, u'resource_locator_protocol': u'', u'no_real_name': u'True', u'mimetype': None, u'cache_url': None, u'name': u'Esri Rest API Endpoint', u'created': u'2016-09-24T11:28:53.233608', u'url': u'https://geodata.epa.gov/arcgis/rest/services/OEI/FRS_Wastewater/MapServer', u'webstore_url': None, u'last_modified': None, u'position': 1, u'revision_id': u'c4595732-d3f1-4581-8497-684eccdb315d', u'resource_type': None}, {u'cache_last_updated': None, u'package_id': u'159cd880-f4eb-49a2-bea0-5c719c490058', u'webstore_last_updated': None, u'id': u'2aca420f-3f5a-4244-8afa-19eb262ba2cf', u'size': None, u'state': u'active', u'resource_locator_function': u'', u'hash': u'', u'description': u'', u'format': u'', u'tracking_summary': {u'total': 99, u'recent': 7}, u'mimetype_inner': None, u'url_type': None, u'resource_locator_protocol': u'', u'no_real_name': u'True', u'mimetype': None, u'cache_url': None, u'name': u'Web Page', u'created': u'2016-09-24T11:28:53.233618', u'url': u'https://www.epa.gov/enviro/facility-registry-service-frs', u'webstore_url': None, u'last_modified': None, u'position': 2, u'revision_id': u'c4595732-d3f1-4581-8497-684eccdb315d', u'resource_type': None}, {u'cache_last_updated': None, u'package_id': u'159cd880-f4eb-49a2-bea0-5c719c490058', u'webstore_last_updated': None, u'id': u'02943644-b675-4893-93ce-3a485b1b75a4', u'size': None, u'state': u'active', u'resource_locator_function': u'', u'hash': u'', u'description': u'', u'format': u'', u'tracking_summary': {u'total': 161, u'recent': 14}, u'mimetype_inner': None, u'url_type': None, u'resource_locator_protocol': u'', u'no_real_name': u'True', u'mimetype': None, u'cache_url': None, u'name': u'Web Page', u'created': u'2016-09-24T11:28:53.233626', u'url': u'https://edg.epa.gov/metadata/catalog/search/resource/details.page?uuid={0fd2712b-62d0-4aaf-ab20-2cbfe8c26b30}', u'webstore_url': None, u'last_modified': None, u'position': 3, u'revision_id': u'c4595732-d3f1-4581-8497-684eccdb315d', u'resource_type': None}], u'num_resources': 4, u'tags': [], u'title': u'EPA Facility Registry Service (FRS): Wastewater Treatment Plants', u'tracking_summary': {u'total': 600, u'recent': 41}, u'groups': [], u'creator_user_id': u'47303a9e-1187-4290-85a3-1fc02dc49e4a', u'relationships_as_subject': [], u'name': u'epa-facility-registry-service-frs-wastewater-treatment-plants', u'isopen': False, u'url': None, u'notes': u\"This GIS dataset contains data on wastewater treatment plants, based on EPA's Facility Registry Service (FRS), EPA's Integrated Compliance Information System (ICIS) and other datasets.\", u'license_title': None, u'extras': [{u'value': u'-64.776389', u'key': u'bbox-east-long'}, {u'value': u'dataset', u'key': u'resource-type'}, {u'value': u'64.858056', u'key': u'bbox-north-lat'}, {u'value': u'[]', u'key': u'coupled-resource'}, {u'value': u'PNG', u'key': u'graphic-preview-type'}, {u'value': u'', u'key': u'guid'}, {u'value': u'http://134.67.224.154/FRS/metadata/Thumbnails/Wastewater.png', u'key': u'graphic-preview-file'}, {u'value': u'17.708333', u'key': u'bbox-south-lat'}, {u'value': u'', u'key': u'spatial-reference-system'}, {u'value': True, u'key': u'spatial_harvester'}, {u'value': u'{\"type\": \"Polygon\", \"coordinates\": [[[-159.633333, 17.708333], [-64.776389, 17.708333], [-64.776389, 64.858056], [-159.633333, 64.858056], [-159.633333, 17.708333]]]}', u'key': u'spatial'}, {u'value': u'completed', u'key': u'progress'}, {u'value': u'[\"Use Constraints: None. Please check sources, scale, accuracy, currentness and other available information. Please confirm that you are using the most recent copy of both data and metadata. Acknowledgement of the EPA would be appreciated.\", \"Access Constraints: None\"]', u'key': u'access_constraints'}, {u'value': u'https://edg.epa.gov/EPA_Data_License.html', u'key': u'licence_url'}, {u'value': u'smith.davidg@epa.gov', u'key': u'contact-email'}, {u'value': u'-159.633333', u'key': u'bbox-west-long'}, {u'value': u'9999-01-01', u'key': u'metadata-date'}, {u'value': u'[{\"type\": \"publication\", \"value\": \"2013-08-27\"}]', u'key': u'dataset-reference-date'}, {u'value': u'EPA Facility Registry Service (FRS): Wastewater Teatment Plants', u'key': u'graphic-preview-description'}, {u'value': u'annually', u'key': u'frequency-of-update'}, {u'value': u'[\"https://edg.epa.gov/EPA_Data_License.html\"]', u'key': u'licence'}, {u'value': u'geospatial', u'key': u'metadata_type'}, {u'value': u'[{\"name\": \"U.S. Environmental Protection Agency, Office of Environmental Information, Office of Information Collection\", \"roles\": [\"pointOfContact\"]}]', u'key': u'responsible-party'}, {u'value': u'', u'key': u'spatial-data-service-type'}, {u'value': u'', u'key': u'metadata-language'}, {u'value': u'united states, climate, emergency, pacific trust territories, energy, compliance, american samoa, guam, air, environment, facilities, united states virgin islands, tribal lands, puerto rico, regulatory, response', u'key': u'tags'}, {u'value': u'c8c7b8cf-da30-4bce-a28b-828e045b867d', u'key': u'harvest_object_id'}, {u'value': u'd0d72986-7693-406b-b71d-840540909711', u'key': u'harvest_source_id'}, {u'value': u'Environmental Dataset Gateway FGDC CSDGM', u'key': u'harvest_source_title'}], u'organization': {u'description': u'Our mission is to protect human health and the environment. ', u'title': u'U.S. Environmental Protection Agency', u'created': u'2013-03-14T03:44:48.513616', u'approval_status': u'approved', u'is_organization': True, u'state': u'active', u'image_url': u'http://edg.epa.gov/EPALogo.svg', u'revision_id': u'f0e4b475-7424-4ce0-9a22-412e7e595154', u'type': u'organization', u'id': u'6d90e48d-3076-4327-b2f4-c33919f374d5', u'name': u'epa-gov'}, u'revision_id': u'c4595732-d3f1-4581-8497-684eccdb315d'}\n"
     ]
    }
   ],
   "source": [
    "import ckanclient\n",
    "from pprint import pprint\n",
    "ckan = ckanclient.CkanClient('https://catalog.data.gov/api/3')\n",
    "pprint(ckan.action('package_search', q='tags:energy', rows=5).keys())\n",
    "ckan = ckan.action('package_search', q='tags:energy', rows=5)\n",
    "print ckan['results'][4]"
   ]
  },
  {
   "cell_type": "code",
   "execution_count": 4,
   "metadata": {
    "collapsed": false
   },
   "outputs": [
    {
     "ename": "CKANAPIError",
     "evalue": "['https://catalog.data.gov/api/3/api/action/package_search', 404, u'<html>\\n <head>\\n  <title>404 Not Found</title>\\n </head>\\n <body>\\n  <h1>404 Not Found</h1>\\n  The resource could not be found.<br /><br />\\n\\n\\n\\n </body>\\n</html>']",
     "output_type": "error",
     "traceback": [
      "\u001b[1;31m---------------------------------------------------------------------------\u001b[0m",
      "\u001b[1;31mCKANAPIError\u001b[0m                              Traceback (most recent call last)",
      "\u001b[1;32m<ipython-input-4-25712e4842c2>\u001b[0m in \u001b[0;36m<module>\u001b[1;34m()\u001b[0m\n\u001b[0;32m      5\u001b[0m     \u001b[1;34m'fq'\u001b[0m\u001b[1;33m:\u001b[0m \u001b[1;34m'res_format:CSV'\u001b[0m\u001b[1;33m,\u001b[0m\u001b[1;33m\u001b[0m\u001b[0m\n\u001b[0;32m      6\u001b[0m }\n\u001b[1;32m----> 7\u001b[1;33m \u001b[0md\u001b[0m \u001b[1;33m=\u001b[0m \u001b[0mckan\u001b[0m\u001b[1;33m.\u001b[0m\u001b[0mcall_action\u001b[0m\u001b[1;33m(\u001b[0m\u001b[1;34m'package_search'\u001b[0m\u001b[1;33m,\u001b[0m \u001b[0mdata_dict\u001b[0m\u001b[1;33m=\u001b[0m\u001b[0msearch_params\u001b[0m\u001b[1;33m)\u001b[0m\u001b[1;33m\u001b[0m\u001b[0m\n\u001b[0m\u001b[0;32m      8\u001b[0m \u001b[1;32mprint\u001b[0m \u001b[0md\u001b[0m\u001b[1;33m[\u001b[0m\u001b[1;34m'count'\u001b[0m\u001b[1;33m]\u001b[0m\u001b[1;33m\u001b[0m\u001b[0m\n",
      "\u001b[1;32m/home/grandocu/anaconda2/envs/gl-env/lib/python2.7/site-packages/ckanapi/remoteckan.pyc\u001b[0m in \u001b[0;36mcall_action\u001b[1;34m(self, action, data_dict, context, apikey, files, requests_kwargs)\u001b[0m\n\u001b[0;32m     84\u001b[0m         \u001b[1;32melse\u001b[0m\u001b[1;33m:\u001b[0m\u001b[1;33m\u001b[0m\u001b[0m\n\u001b[0;32m     85\u001b[0m             \u001b[0mstatus\u001b[0m\u001b[1;33m,\u001b[0m \u001b[0mresponse\u001b[0m \u001b[1;33m=\u001b[0m \u001b[0mself\u001b[0m\u001b[1;33m.\u001b[0m\u001b[0m_request_fn\u001b[0m\u001b[1;33m(\u001b[0m\u001b[0murl\u001b[0m\u001b[1;33m,\u001b[0m \u001b[0mdata\u001b[0m\u001b[1;33m,\u001b[0m \u001b[0mheaders\u001b[0m\u001b[1;33m,\u001b[0m \u001b[0mfiles\u001b[0m\u001b[1;33m,\u001b[0m \u001b[0mrequests_kwargs\u001b[0m\u001b[1;33m)\u001b[0m\u001b[1;33m\u001b[0m\u001b[0m\n\u001b[1;32m---> 86\u001b[1;33m         \u001b[1;32mreturn\u001b[0m \u001b[0mreverse_apicontroller_action\u001b[0m\u001b[1;33m(\u001b[0m\u001b[0murl\u001b[0m\u001b[1;33m,\u001b[0m \u001b[0mstatus\u001b[0m\u001b[1;33m,\u001b[0m \u001b[0mresponse\u001b[0m\u001b[1;33m)\u001b[0m\u001b[1;33m\u001b[0m\u001b[0m\n\u001b[0m\u001b[0;32m     87\u001b[0m \u001b[1;33m\u001b[0m\u001b[0m\n\u001b[0;32m     88\u001b[0m     \u001b[1;32mdef\u001b[0m \u001b[0m_request_fn\u001b[0m\u001b[1;33m(\u001b[0m\u001b[0mself\u001b[0m\u001b[1;33m,\u001b[0m \u001b[0murl\u001b[0m\u001b[1;33m,\u001b[0m \u001b[0mdata\u001b[0m\u001b[1;33m,\u001b[0m \u001b[0mheaders\u001b[0m\u001b[1;33m,\u001b[0m \u001b[0mfiles\u001b[0m\u001b[1;33m,\u001b[0m \u001b[0mrequests_kwargs\u001b[0m\u001b[1;33m)\u001b[0m\u001b[1;33m:\u001b[0m\u001b[1;33m\u001b[0m\u001b[0m\n",
      "\u001b[1;32m/home/grandocu/anaconda2/envs/gl-env/lib/python2.7/site-packages/ckanapi/common.pyc\u001b[0m in \u001b[0;36mreverse_apicontroller_action\u001b[1;34m(url, status, response)\u001b[0m\n\u001b[0;32m    129\u001b[0m \u001b[1;33m\u001b[0m\u001b[0m\n\u001b[0;32m    130\u001b[0m     \u001b[1;31m# don't recognize the error\u001b[0m\u001b[1;33m\u001b[0m\u001b[1;33m\u001b[0m\u001b[0m\n\u001b[1;32m--> 131\u001b[1;33m     \u001b[1;32mraise\u001b[0m \u001b[0mCKANAPIError\u001b[0m\u001b[1;33m(\u001b[0m\u001b[0mrepr\u001b[0m\u001b[1;33m(\u001b[0m\u001b[1;33m[\u001b[0m\u001b[0murl\u001b[0m\u001b[1;33m,\u001b[0m \u001b[0mstatus\u001b[0m\u001b[1;33m,\u001b[0m \u001b[0mresponse\u001b[0m\u001b[1;33m]\u001b[0m\u001b[1;33m)\u001b[0m\u001b[1;33m)\u001b[0m\u001b[1;33m\u001b[0m\u001b[0m\n\u001b[0m",
      "\u001b[1;31mCKANAPIError\u001b[0m: ['https://catalog.data.gov/api/3/api/action/package_search', 404, u'<html>\\n <head>\\n  <title>404 Not Found</title>\\n </head>\\n <body>\\n  <h1>404 Not Found</h1>\\n  The resource could not be found.<br /><br />\\n\\n\\n\\n </body>\\n</html>']"
     ]
    }
   ],
   "source": [
    "import ckanapi\n",
    "ckan = ckanapi.RemoteCKAN('https://catalog.data.gov/api/3')\n",
    "search_params = {                                           \n",
    "    'q': 'tags:\"energy\"',  \n",
    "    'fq': 'res_format:CSV',                                                                                   \n",
    "}\n",
    "d = ckan.call_action('package_search', data_dict=search_params) \n",
    "print d['count']"
   ]
  },
  {
   "cell_type": "code",
   "execution_count": null,
   "metadata": {
    "collapsed": true
   },
   "outputs": [],
   "source": []
  }
 ],
 "metadata": {
  "kernelspec": {
   "display_name": "Python 2",
   "language": "python",
   "name": "python2"
  },
  "language_info": {
   "codemirror_mode": {
    "name": "ipython",
    "version": 2
   },
   "file_extension": ".py",
   "mimetype": "text/x-python",
   "name": "python",
   "nbconvert_exporter": "python",
   "pygments_lexer": "ipython2",
   "version": "2.7.11"
  }
 },
 "nbformat": 4,
 "nbformat_minor": 0
}
