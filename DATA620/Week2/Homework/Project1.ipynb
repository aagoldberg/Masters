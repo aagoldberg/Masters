{
 "cells": [
  {
   "cell_type": "code",
   "execution_count": 81,
   "metadata": {
    "collapsed": false,
    "scrolled": true
   },
   "outputs": [],
   "source": [
    "from stackapi import StackAPI\n",
    "import pandas as pd\n",
    "import time\n",
    "SITE = StackAPI('stackoverflow')"
   ]
  },
  {
   "cell_type": "code",
   "execution_count": 82,
   "metadata": {
    "collapsed": false
   },
   "outputs": [],
   "source": [
    "start_time = int(time.mktime(time.strptime(\"2016-06-01T00:00:00\", \"%Y-%m-%dT%H:%M:%S\")))\n",
    "end_time = int(time.mktime(time.strptime(\"2017-06-01T00:00:00\", \"%Y-%m-%dT%H:%M:%S\")))\n",
    "questions = SITE.fetch('questions', fromdate=start_time, todate=end_time,\n",
    "                       min=20, sort='votes')"
   ]
  },
  {
   "cell_type": "code",
   "execution_count": 83,
   "metadata": {
    "collapsed": false
   },
   "outputs": [],
   "source": [
    "qdf = pd.DataFrame.from_dict(questions)\n",
    "i = 2\n",
    "while questions['has_more'] == True and i < 20:\n",
    "    questions = SITE.fetch('questions', fromdate=start_time, todate=end_time,\n",
    "                       min=20, sort='votes', page=i)\n",
    "    tdf = pd.DataFrame.from_dict(questions)\n",
    "    qdf = pd.concat([qdf, tdf])\n",
    "    i += 1 \n",
    "qdf = qdf.reset_index()\n",
    "qdf = qdf.to_csv(\"questions.csv\")"
   ]
  },
  {
   "cell_type": "code",
   "execution_count": 84,
   "metadata": {
    "collapsed": false
   },
   "outputs": [],
   "source": [
    "import ast\n",
    "answerlist = []\n",
    "qdf = pd.read_csv(\"questions.csv\")\n",
    "for index, row in qdf.iterrows():\n",
    "    rd = ast.literal_eval(row['items'])\n",
    "    if 'accepted_answer_id' in rd and 'user_id' in rd['owner']:\n",
    "        answerlist.append(rd['accepted_answer_id'])"
   ]
  },
  {
   "cell_type": "code",
   "execution_count": 85,
   "metadata": {
    "collapsed": false
   },
   "outputs": [],
   "source": [
    "adf = {}\n",
    "numiters = int(len(answerlist) / 99)\n",
    "if numiters == 0:\n",
    "    answers = SITE.fetch('/answers/{ids}', ids=answerlist)\n",
    "    adf = pd.DataFrame.from_dict(answers)\n",
    "else:\n",
    "    answers = SITE.fetch('/answers/{ids}', ids=answerlist[:99])\n",
    "    adf = pd.DataFrame.from_dict(answers)\n",
    "    j = 99\n",
    "    k = j + 99\n",
    "    for i in range(0, numiters):\n",
    "        answers = SITE.fetch('/answers/{ids}', ids=answerlist[j:k])\n",
    "        temp = pd.DataFrame.from_dict(answers)\n",
    "        adf = pd.concat([adf, temp])\n",
    "        j = j + 99\n",
    "        k = k + 99\n",
    "adf = adf.reset_index()\n",
    "adf = adf.to_csv(\"answers.csv\")"
   ]
  },
  {
   "cell_type": "code",
   "execution_count": 86,
   "metadata": {
    "collapsed": false,
    "scrolled": true
   },
   "outputs": [],
   "source": [
    "#Only run above when needed.\n",
    "import ast\n",
    "import pandas as pd\n",
    "userasklist = []\n",
    "useranswerlist = []\n",
    "questionlist = []\n",
    "adf = pd.read_csv(\"answers.csv\")\n",
    "qdf = pd.read_csv(\"questions.csv\")\n",
    "dq = {}\n",
    "dtag = {}\n",
    "for index, row in qdf.iterrows():\n",
    "    q = ast.literal_eval(row['items'])\n",
    "    if 'accepted_answer_id' in q and 'user_id' in q['owner']:\n",
    "        dq[q['question_id']] = q['owner']['user_id']\n",
    "        if 'tags' in q:\n",
    "            dtag[q['question_id']] = q['tags']\n",
    "        else:\n",
    "            dtag[q['question_id']] = []"
   ]
  },
  {
   "cell_type": "code",
   "execution_count": 87,
   "metadata": {
    "collapsed": false,
    "scrolled": true
   },
   "outputs": [
    {
     "data": {
      "text/html": [
       "<div>\n",
       "<table border=\"1\" class=\"dataframe\">\n",
       "  <thead>\n",
       "    <tr style=\"text-align: right;\">\n",
       "      <th></th>\n",
       "      <th>question</th>\n",
       "      <th>answered</th>\n",
       "      <th>asked</th>\n",
       "      <th>tags</th>\n",
       "    </tr>\n",
       "  </thead>\n",
       "  <tbody>\n",
       "    <tr>\n",
       "      <th>1448</th>\n",
       "      <td>38436847</td>\n",
       "      <td>335858</td>\n",
       "      <td>5962841</td>\n",
       "      <td>[c#, lazy-evaluation]</td>\n",
       "    </tr>\n",
       "    <tr>\n",
       "      <th>1447</th>\n",
       "      <td>37576685</td>\n",
       "      <td>1048572</td>\n",
       "      <td>4033215</td>\n",
       "      <td>[javascript, node.js, promise, async-await, ec...</td>\n",
       "    </tr>\n",
       "    <tr>\n",
       "      <th>1446</th>\n",
       "      <td>38354923</td>\n",
       "      <td>734069</td>\n",
       "      <td>157971</td>\n",
       "      <td>[c++, c++11, lambda]</td>\n",
       "    </tr>\n",
       "    <tr>\n",
       "      <th>1445</th>\n",
       "      <td>37847018</td>\n",
       "      <td>4018256</td>\n",
       "      <td>2798503</td>\n",
       "      <td>[swift, swift-playground, xcode8]</td>\n",
       "    </tr>\n",
       "    <tr>\n",
       "      <th>1444</th>\n",
       "      <td>41913578</td>\n",
       "      <td>1621391</td>\n",
       "      <td>5662819</td>\n",
       "      <td>[c++, templates, vector, member, incomplete-type]</td>\n",
       "    </tr>\n",
       "    <tr>\n",
       "      <th>1443</th>\n",
       "      <td>38944725</td>\n",
       "      <td>3751711</td>\n",
       "      <td>1141998</td>\n",
       "      <td>[angular]</td>\n",
       "    </tr>\n",
       "    <tr>\n",
       "      <th>1442</th>\n",
       "      <td>37920722</td>\n",
       "      <td>400222</td>\n",
       "      <td>91590</td>\n",
       "      <td>[jenkins, jenkins-pipeline, jenkins-blueocean]</td>\n",
       "    </tr>\n",
       "    <tr>\n",
       "      <th>1441</th>\n",
       "      <td>40591312</td>\n",
       "      <td>1084774</td>\n",
       "      <td>5069935</td>\n",
       "      <td>[c, gcc, assembly, c-preprocessor, avr]</td>\n",
       "    </tr>\n",
       "    <tr>\n",
       "      <th>1440</th>\n",
       "      <td>38445006</td>\n",
       "      <td>711857</td>\n",
       "      <td>931934</td>\n",
       "      <td>[redux]</td>\n",
       "    </tr>\n",
       "  </tbody>\n",
       "</table>\n",
       "</div>"
      ],
      "text/plain": [
       "      question  answered    asked  \\\n",
       "1448  38436847    335858  5962841   \n",
       "1447  37576685   1048572  4033215   \n",
       "1446  38354923    734069   157971   \n",
       "1445  37847018   4018256  2798503   \n",
       "1444  41913578   1621391  5662819   \n",
       "1443  38944725   3751711  1141998   \n",
       "1442  37920722    400222    91590   \n",
       "1441  40591312   1084774  5069935   \n",
       "1440  38445006    711857   931934   \n",
       "\n",
       "                                                   tags  \n",
       "1448                              [c#, lazy-evaluation]  \n",
       "1447  [javascript, node.js, promise, async-await, ec...  \n",
       "1446                               [c++, c++11, lambda]  \n",
       "1445                  [swift, swift-playground, xcode8]  \n",
       "1444  [c++, templates, vector, member, incomplete-type]  \n",
       "1443                                          [angular]  \n",
       "1442     [jenkins, jenkins-pipeline, jenkins-blueocean]  \n",
       "1441            [c, gcc, assembly, c-preprocessor, avr]  \n",
       "1440                                            [redux]  "
      ]
     },
     "metadata": {},
     "output_type": "display_data"
    },
    {
     "name": "stdout",
     "output_type": "stream",
     "text": [
      "None\n"
     ]
    }
   ],
   "source": [
    "from IPython.display import display\n",
    "da = {}\n",
    "for index, row in adf.iterrows():\n",
    "    q = ast.literal_eval(row['items'])\n",
    "    if 'user_id' in q['owner']:\n",
    "        da[q['question_id']] = q['owner']['user_id']\n",
    "    else:\n",
    "        #find a way to delete this\n",
    "        da[q['question_id']] = \"Null\"\n",
    "\n",
    "d = {\"asked\": pd.Series(dq.values(), index=dq.keys()), \n",
    "     \"answered\": pd.Series(da.values(), index=dq.keys()),\n",
    "     \"tags\":pd.Series(dtag.values(), index=dq.keys())}\n",
    "data = pd.DataFrame(d)\n",
    "data = data.reset_index()\n",
    "data = data.rename(columns = {'index':'question'})\n",
    "print display(data[:-10:-1])"
   ]
  },
  {
   "cell_type": "code",
   "execution_count": 88,
   "metadata": {
    "collapsed": false
   },
   "outputs": [],
   "source": [
    "import networkx as nx\n",
    "g = nx.from_pandas_dataframe(data, \"asked\", \"answered\", edge_attr=\"tags\")\n",
    "dataasked = data[[\"asked\",\"tags\"]]\n",
    "dataasked.columns = [\"id\",\"tags\"]\n",
    "dataanswered = data[[\"answered\",\"tags\"]]\n",
    "dataanswered.columns = [\"id\",\"tags\"]\n",
    "tagcheck = pd.concat([dataasked, dataanswered])\n",
    "tagcheck.set_index(\"id\")\n",
    "#print tagcheck.ix[:,0].tolist()\n",
    "for n, sd in g.nodes_iter(True):\n",
    "    if n in tagcheck.ix[:,0].tolist():\n",
    "        sd['tags'] = tagcheck.loc[tagcheck[\"id\"] == n , \"tags\"].values[0]"
   ]
  },
  {
   "cell_type": "code",
   "execution_count": 96,
   "metadata": {
    "collapsed": false
   },
   "outputs": [
    {
     "name": "stdout",
     "output_type": "stream",
     "text": [
      "14\n"
     ]
    },
    {
     "data": {
      "text/html": [
       "<div>\n",
       "<table border=\"1\" class=\"dataframe\">\n",
       "  <thead>\n",
       "    <tr style=\"text-align: right;\">\n",
       "      <th></th>\n",
       "      <th>node</th>\n",
       "      <th>degree centrality</th>\n",
       "    </tr>\n",
       "  </thead>\n",
       "  <tbody>\n",
       "    <tr>\n",
       "      <th>0</th>\n",
       "      <td>4952130</td>\n",
       "      <td>0.193182</td>\n",
       "    </tr>\n",
       "    <tr>\n",
       "      <th>1</th>\n",
       "      <td>100297</td>\n",
       "      <td>0.125000</td>\n",
       "    </tr>\n",
       "    <tr>\n",
       "      <th>2</th>\n",
       "      <td>674039</td>\n",
       "      <td>0.102273</td>\n",
       "    </tr>\n",
       "    <tr>\n",
       "      <th>3</th>\n",
       "      <td>2805305</td>\n",
       "      <td>0.068182</td>\n",
       "    </tr>\n",
       "    <tr>\n",
       "      <th>4</th>\n",
       "      <td>3233393</td>\n",
       "      <td>0.068182</td>\n",
       "    </tr>\n",
       "    <tr>\n",
       "      <th>5</th>\n",
       "      <td>224132</td>\n",
       "      <td>0.056818</td>\n",
       "    </tr>\n",
       "    <tr>\n",
       "      <th>6</th>\n",
       "      <td>1084774</td>\n",
       "      <td>0.056818</td>\n",
       "    </tr>\n",
       "    <tr>\n",
       "      <th>7</th>\n",
       "      <td>1634905</td>\n",
       "      <td>0.056818</td>\n",
       "    </tr>\n",
       "    <tr>\n",
       "      <th>8</th>\n",
       "      <td>2357112</td>\n",
       "      <td>0.056818</td>\n",
       "    </tr>\n",
       "    <tr>\n",
       "      <th>9</th>\n",
       "      <td>2456565</td>\n",
       "      <td>0.056818</td>\n",
       "    </tr>\n",
       "    <tr>\n",
       "      <th>10</th>\n",
       "      <td>496161</td>\n",
       "      <td>0.045455</td>\n",
       "    </tr>\n",
       "  </tbody>\n",
       "</table>\n",
       "</div>"
      ],
      "text/plain": [
       "       node  degree centrality\n",
       "0   4952130           0.193182\n",
       "1    100297           0.125000\n",
       "2    674039           0.102273\n",
       "3   2805305           0.068182\n",
       "4   3233393           0.068182\n",
       "5    224132           0.056818\n",
       "6   1084774           0.056818\n",
       "7   1634905           0.056818\n",
       "8   2357112           0.056818\n",
       "9   2456565           0.056818\n",
       "10   496161           0.045455"
      ]
     },
     "metadata": {},
     "output_type": "display_data"
    },
    {
     "name": "stdout",
     "output_type": "stream",
     "text": [
      "None\n"
     ]
    }
   ],
   "source": [
    "#calcualte diameter.  We must pick a subset that is entirely connected and check that diameter.  \n",
    "#We will use the biggest network\n",
    "bn = sorted(nx.connected_components(g), key=len, reverse=True)[0]\n",
    "g = g.subgraph(bn)\n",
    "print nx.diameter(g)\n",
    "nodes = []\n",
    "dcentrality = []\n",
    "for i, j in sorted(nx.degree_centrality(g).iteritems(), key=lambda(k, v): (-v, k))[0:11]:\n",
    "    nodes.append(i)\n",
    "    dcentrality.append(j)\n",
    "d = {\"node\":nodes, \"degree centrality\": dcentrality}\n",
    "data = pd.DataFrame(d)\n",
    "print display(data[[\"node\",\"degree centrality\"]])"
   ]
  },
  {
   "cell_type": "code",
   "execution_count": 94,
   "metadata": {
    "collapsed": true
   },
   "outputs": [],
   "source": [
    "#change graph to just the largest network\n",
    "so_nodes = g.nodes()\n",
    "so_edges = g.edges()"
   ]
  },
  {
   "cell_type": "code",
   "execution_count": 127,
   "metadata": {
    "collapsed": false
   },
   "outputs": [],
   "source": [
    "#highlight tags\n",
    "highlightlist = []\n",
    "for n, sd in g.nodes_iter(True):\n",
    "    if any(s for s in sd[\"tags\"] if \"python\" in s):\n",
    "        highlightlist.append(n)"
   ]
  },
  {
   "cell_type": "code",
   "execution_count": 128,
   "metadata": {
    "collapsed": false
   },
   "outputs": [
    {
     "data": {
      "application/javascript": [
       "$(\"head\").append($(\"<link/>\").attr({\n",
       "  rel:  \"stylesheet\",\n",
       "  type: \"text/css\",\n",
       "  href: \"//cdnjs.cloudflare.com/ajax/libs/font-awesome/4.1.0/css/font-awesome.min.css\"\n",
       "}));\n",
       "$(\"head\").append($(\"<link/>\").attr({\n",
       "  rel:  \"stylesheet\",\n",
       "  type: \"text/css\",\n",
       "  href: \"https://static.turi.com/products/graphlab-create/2.1/canvas/css/canvas.css\"\n",
       "}));\n",
       "\n",
       "            (function(){\n",
       "\n",
       "                var e = null;\n",
       "                if (typeof element == 'undefined') {\n",
       "                    var scripts = document.getElementsByTagName('script');\n",
       "                    var thisScriptTag = scripts[scripts.length-1];\n",
       "                    var parentDiv = thisScriptTag.parentNode;\n",
       "                    e = document.createElement('div');\n",
       "                    parentDiv.appendChild(e);\n",
       "                } else {\n",
       "                    e = element[0];\n",
       "                }\n",
       "\n",
       "                if (typeof requirejs !== 'undefined') {\n",
       "                    // disable load timeout; ipython_app.js is large and can take a while to load.\n",
       "                    requirejs.config({waitSeconds: 0});\n",
       "                }\n",
       "\n",
       "                require(['https://static.turi.com/products/graphlab-create/2.1/canvas/js/ipython_app.js'], function(IPythonApp){\n",
       "                    var app = new IPythonApp();\n",
       "                    app.attachView('sgraph','View', {\"edges_labels\": null, \"selected_variable\": {\"name\": [\"so_graph\"], \"view_file\": \"sgraph\", \"view_component\": \"View\", \"view_params\": {\"elabel_hover\": false, \"vertex_positions\": null, \"h_offset\": 0.0, \"node_size\": 300, \"ecolor\": [0.37, 0.33, 0.33], \"elabel\": null, \"arrows\": true, \"ewidth\": 1, \"vlabel\": \"id\", \"highlight_color\": [[0.69, 0.0, 0.498], [0.69, 0.0, 0.498], [0.69, 0.0, 0.498], [0.69, 0.0, 0.498], [0.69, 0.0, 0.498], [0.69, 0.0, 0.498], [0.69, 0.0, 0.498], [0.69, 0.0, 0.498], [0.69, 0.0, 0.498], [0.69, 0.0, 0.498], [0.69, 0.0, 0.498], [0.69, 0.0, 0.498], [0.69, 0.0, 0.498], [0.69, 0.0, 0.498], [0.69, 0.0, 0.498], [0.69, 0.0, 0.498], [0.69, 0.0, 0.498], [0.69, 0.0, 0.498], [0.69, 0.0, 0.498], [0.69, 0.0, 0.498], [0.69, 0.0, 0.498], [0.69, 0.0, 0.498], [0.69, 0.0, 0.498], [0.69, 0.0, 0.498], [0.69, 0.0, 0.498], [0.69, 0.0, 0.498], [0.69, 0.0, 0.498], [0.69, 0.0, 0.498], [0.69, 0.0, 0.498], [0.69, 0.0, 0.498], [0.69, 0.0, 0.498]], \"vcolor\": [0.522, 0.741, 0.0], \"vlabel_hover\": false, \"highlight\": {\"6162307\": [0.69, 0.0, 0.498], \"876294\": [0.69, 0.0, 0.498], \"771848\": [0.69, 0.0, 0.498], \"123415\": [0.69, 0.0, 0.498], \"1417742\": [0.69, 0.0, 0.498], \"336527\": [0.69, 0.0, 0.498], \"6734723\": [0.69, 0.0, 0.498], \"390807\": [0.69, 0.0, 0.498], \"2350423\": [0.69, 0.0, 0.498], \"4449586\": [0.69, 0.0, 0.498], \"1063607\": [0.69, 0.0, 0.498], \"2988730\": [0.69, 0.0, 0.498], \"3125566\": [0.69, 0.0, 0.498], \"4952130\": [0.69, 0.0, 0.498], \"463300\": [0.69, 0.0, 0.498], \"100297\": [0.69, 0.0, 0.498], \"6260170\": [0.69, 0.0, 0.498], \"1350992\": [0.69, 0.0, 0.498], \"6548439\": [0.69, 0.0, 0.498], \"1040092\": [0.69, 0.0, 0.498], \"5507681\": [0.69, 0.0, 0.498], \"903011\": [0.69, 0.0, 0.498], \"1983854\": [0.69, 0.0, 0.498], \"4497519\": [0.69, 0.0, 0.498], \"2401265\": [0.69, 0.0, 0.498], \"1356926\": [0.69, 0.0, 0.498], \"674039\": [0.69, 0.0, 0.498], \"2357112\": [0.69, 0.0, 0.498], \"356729\": [0.69, 0.0, 0.498], \"2027390\": [0.69, 0.0, 0.498], \"7213695\": [0.69, 0.0, 0.498]}, \"v_offset\": 0.03}, \"view_components\": [\"View\"], \"type\": \"SGraph\", \"descriptives_links\": {\"edges\": \"edges\", \"vertices\": \"vertices\"}, \"descriptives\": {\"edges\": 90, \"vertices\": 89}}, \"positions\": null, \"error_type\": 0, \"vertices\": [417292, 4497519, 3319557, 4723795, 100297, 3848107, 5485167, 4016626, 2401265, 3887393, 2988730, 6173998, 6822575, 3448419, 1417742, 765965, 5159431, 2456565, 2402272, 315260, 1084774, 1983854, 2350423, 2990509, 2411320, 5069935, 4952130, 1971171, 496161, 3255071, 6260170, 936882, 5985404, 903011, 3233393, 3598119, 6162307, 5507681, 634821, 4389800, 5406363, 336527, 678093, 123415, 2299605, 4449586, 2357112, 14065, 5018980, 2949376, 2642059, 745924, 2805305, 1356926, 343159, 4444768, 876294, 2211019, 771848, 390807, 1040092, 2570103, 1823551, 402041, 4583267, 4989932, 3514372, 3422652, 2027390, 6548439, 5949670, 1063607, 673852, 7213695, 356729, 674039, 1981508, 3125566, 14316, 4980644, 224132, 6734723, 6394138, 463300, 3175480, 149138, 1350992, 1634905, 1627952], \"vertices_labels\": [417292, 4497519, 3319557, 4723795, 100297, 3848107, 5485167, 4016626, 2401265, 3887393, 2988730, 6173998, 6822575, 3448419, 1417742, 765965, 5159431, 2456565, 2402272, 315260, 1084774, 1983854, 2350423, 2990509, 2411320, 5069935, 4952130, 1971171, 496161, 3255071, 6260170, 936882, 5985404, 903011, 3233393, 3598119, 6162307, 5507681, 634821, 4389800, 5406363, 336527, 678093, 123415, 2299605, 4449586, 2357112, 14065, 5018980, 2949376, 2642059, 745924, 2805305, 1356926, 343159, 4444768, 876294, 2211019, 771848, 390807, 1040092, 2570103, 1823551, 402041, 4583267, 4989932, 3514372, 3422652, 2027390, 6548439, 5949670, 1063607, 673852, 7213695, 356729, 674039, 1981508, 3125566, 14316, 4980644, 224132, 6734723, 6394138, 463300, 3175480, 149138, 1350992, 1634905, 1627952], \"edges\": [[4497519, 100297], [3887393, 5485167], [417292, 2402272], [6822575, 1084774], [417292, 496161], [2988730, 2357112], [100297, 4989932], [3448419, 3319557], [1983854, 100297], [315260, 5485167], [5159431, 3448419], [1084774, 1084774], [2990509, 2456565], [1084774, 4389800], [3448419, 745924], [765965, 771848], [1417742, 674039], [2990509, 3422652], [5159431, 14316], [3448419, 149138], [4952130, 6173998], [4952130, 4723795], [903011, 100297], [4952130, 2990509], [4952130, 2350423], [5069935, 1084774], [3233393, 2990509], [3233393, 2411320], [4952130, 4952130], [4952130, 6162307], [4952130, 6260170], [3233393, 3598119], [3233393, 936882], [3233393, 3255071], [4952130, 5507681], [4952130, 5406363], [496161, 2642059], [4952130, 4449586], [3233393, 14065], [496161, 2570103], [4952130, 4444768], [4952130, 390807], [4952130, 343159], [4952130, 1040092], [496161, 6394138], [4952130, 6734723], [4389800, 4723795], [634821, 100297], [336527, 674039], [2805305, 5485167], [5018980, 5485167], [2357112, 3848107], [2642059, 2456565], [123415, 4952130], [2642059, 1971171], [2805305, 1356926], [2805305, 1823551], [2805305, 4583267], [2805305, 4989932], [2357112, 2027390], [2805305, 1627952], [678093, 224132], [2357112, 4980644], [876294, 100297], [1040092, 674039], [771848, 224132], [7213695, 100297], [1063607, 100297], [674039, 2401265], [674039, 100297], [356729, 100297], [1981508, 2456565], [402041, 2456565], [6548439, 2456565], [3125566, 6260170], [674039, 2357112], [5949670, 771848], [674039, 771848], [673852, 674039], [3514372, 6394138], [3175480, 4723795], [1350992, 100297], [224132, 4016626], [1634905, 5985404], [1634905, 2949376], [1634905, 2299605], [1634905, 2211019], [463300, 674039], [1634905, 224132], [149138, 224132]], \"ipython\": true, \"error_msg\": \"\"}, e);\n",
       "                });\n",
       "            })();\n",
       "        "
      ]
     },
     "metadata": {},
     "output_type": "display_data"
    }
   ],
   "source": [
    "from graphlab import SGraph, Vertex, Edge, canvas\n",
    "canvas.set_target('ipynb')\n",
    "so_graph = SGraph()\n",
    "nodelist = []\n",
    "for i in so_nodes:\n",
    "    nodelist.append(Vertex(i))\n",
    "so_graph = so_graph.add_vertices(nodelist)\n",
    "for i, j in so_edges:\n",
    "    so_graph = so_graph.add_edges(Edge(i,j))\n",
    "so_graph.show(vlabel='id', arrows=True, highlight=highlightlist)"
   ]
  },
  {
   "cell_type": "code",
   "execution_count": 98,
   "metadata": {
    "collapsed": false
   },
   "outputs": [
    {
     "name": "stdout",
     "output_type": "stream",
     "text": [
      "{3514372: [u'ios', u'objective-c', u'iphone', u'xcode'], 5159431: [u'visual-studio-2015', u'nuget'], 4497519: [u'python', u'asynchronous', u'list-comprehension', u'python-3.6'], 417292: [u'c++', u'c', u'undefined-behavior', u'integer-overflow'], 765965: [u'javascript', u'node.js', u'npm', u'gruntjs', u'bower'], 1417742: [u'python', u'python-internals'], 123415: [u'python', u'list', u'python-3.x', u'sorting', u'python-internals'], 496161: [u'c#', u'file', u'file-exists'], 3175480: [u'c++', u'undefined-behavior'], 2805305: [u'c++', u'c++11', u'tuples'], 673852: [u'c++', u'optimization'], 4952130: [u'python', u'string', u'performance', u'python-3.x', u'python-internals'], 1981508: [u'c++', u'c++11', u'random'], 4583267: [u'android', u'android-file', u'android-7.0-nougat'], 1634905: [u'ios', u'objective-c', u'ios10'], 4444768: [u'c#', u'string'], 5507681: [u'python', u'list', u'python-3.x', u'optimization'], 3448419: [u'java', u'arrays', u'performance', u'optimization'], 5069935: [u'c', u'gcc', u'assembly', u'c-preprocessor', u'avr'], 3233393: [u'c++', u'language-lawyer', u'compiler-bug', u'name-lookup', u'dependent-name'], 343159: [u'angular', u'angular-services'], 402041: [u'c++'], 5985404: [u'ios', u'uiimageview', u'uiimage', u'ios10', u'xcode8'], 1356926: [u'python', u'c++', u'boost', u'tuples', u'boost-python'], 7213695: [u'python', u'list', u'python-internals'], 2642059: [u'c++', u'void'], 336527: [u'python', u'python-3.x'], 149138: [u'c', u'performance', u'assembly', u'optimization', u'x86'], 390807: [u'python', u'python-3.x', u'tuples', u'identity', u'python-internals'], 463300: [u'python', u'short-circuiting'], 5406363: [u'c++', u'c++11', u'move', u'move-semantics', u'move-constructor'], 6822575: [u'c', u'linux', u'memory', u'memory-address', u'string-literals'], 1063607: [u'python', u'datetime', u'python-3.6', u'iterable'], 2988730: [u'python', u'hash'], 2211019: [u'ios', u'objective-c', u'uiimagepickercontroller', u'presentviewcontroller', u'ios10'], 678093: [u'c++', u'gcc', u'assembly', u'clang'], 2299605: [u'android', u'android-edittext', u'passwords'], 1040092: [u'python', u'class', u'python-3.x'], 5949670: [u'ios', u'uilocalnotification'], 14065: [u'c++', u'language-lawyer', u'compiler-bug', u'name-lookup', u'dependent-name'], 674039: [u'python'], 2949376: [u'ios', u'firebase', u'admob', u'google-signin'], 3319557: [u'java', u'multithreading', u'jvm', u'executorservice', u'java-threads'], 876294: [u'python', u'html', u'python-3.x', u'beautifulsoup', u'html-table'], 771848: [u'python', u'python-3.x', u'string-formatting', u'python-3.6', u'f-string'], 6734723: [u'python', u'function', u'python-3.x'], 6394138: [u'c++', u'c++11', u'templates', u'namespaces'], 3255071: [u'c++', u'c++11', u'tuples', u'std-pair', u'minmax'], 3887393: [u'c++', u'return', u'language-lawyer', u'operator-precedence', u'comma-operator'], 3598119: [u'c++', u'templates', u'c++11', u'variadic-templates', u'visitor'], 6173998: [u'java', u'database'], 1627952: [u'android', u'permissions', u'android-6.0-marshmallow'], 4449586: [u'python', u'string', u'python-3.x', u'casting'], 2411320: [u'c++', u'function', u'exception', u'vector', u'stl'], 3125566: [u'python', u'performance', u'list', u'python-3.x', u'optimization'], 1823551: [u'c++', u'c++11', u'tuples'], 1350992: [u'python', u'introspection'], 2350423: [u'python', u'performance', u'python-3.x', u'python-3.5', u'python-internals'], 903011: [u'python', u'list-comprehension'], 5018980: [u'angular'], 1084774: [u'c++', u'c'], 1983854: [u'python', u'python-3.x', u'annotations', u'type-hinting', u'python-3.6'], 2570103: [u'c#', u'file', u'file-exists'], 2357112: [u'python', u'hash'], 356729: [u'python', u'boolean'], 315260: [u'angular', u'iframe'], 2027390: [u'python', u'performance', u'optimization', u'big-o', u'python-internals'], 6162307: [u'python', u'python-3.x', u'dictionary'], 224132: [u'c++', u'gcc', u'assembly', u'clang'], 14316: [u'java', u'kotlin'], 4980644: [u'ios', u'swift', u'swift2', u'segue'], 4389800: [u'java', u'spring', u'spring-security', u'spring-boot', u'httprequest'], 3848107: [u'c++11', u'variables', u'recursion', u'folly'], 2990509: [u'c++', u'c++11'], 936882: [u'c++', u'c++11', u'constexpr'], 3422652: [u'c++', u'c++11'], 745924: [u'java', u'windows', u'performance', u'networking', u'windows-7'], 634821: [u'xcode', u'osx', u'qt'], 100297: [u'python', u'list', u'python-internals'], 6260170: [u'python', u'python-3.x', u'dictionary', u'python-internals', u'python-3.6'], 6548439: [u'python', u'python-3.x', u'tuples', u'identity', u'python-internals'], 2402272: [u'c++', u'c', u'struct'], 1971171: [u'c++', u'c', u'dependencies', u'standards', u'language-lawyer'], 4989932: [u'swift', u'swift3', u'xcode8', u'ios10'], 2401265: [u'python'], 4016626: [u'java', u'java-8'], 4723795: [u'java', u'spring', u'spring-security', u'spring-boot', u'httprequest'], 5485167: [u'c++', u'templates', u'variadic-templates', u'c++1z', u'c++-faq'], 2456565: [u'c++', u'void']}\n"
     ]
    }
   ],
   "source": [
    "print nx.get_node_attributes(g , 'tags')"
   ]
  },
  {
   "cell_type": "code",
   "execution_count": null,
   "metadata": {
    "collapsed": true
   },
   "outputs": [],
   "source": []
  }
 ],
 "metadata": {
  "kernelspec": {
   "display_name": "Python 2",
   "language": "python",
   "name": "python2"
  },
  "language_info": {
   "codemirror_mode": {
    "name": "ipython",
    "version": 2
   },
   "file_extension": ".py",
   "mimetype": "text/x-python",
   "name": "python",
   "nbconvert_exporter": "python",
   "pygments_lexer": "ipython2",
   "version": "2.7.11"
  }
 },
 "nbformat": 4,
 "nbformat_minor": 0
}
