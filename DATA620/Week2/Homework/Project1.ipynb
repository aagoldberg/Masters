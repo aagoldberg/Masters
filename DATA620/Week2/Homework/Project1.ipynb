{
 "cells": [
  {
   "cell_type": "code",
   "execution_count": 1,
   "metadata": {
    "collapsed": false,
    "scrolled": true
   },
   "outputs": [
    {
     "ename": "StackAPIError",
     "evalue": "",
     "output_type": "error",
     "traceback": [
      "\u001b[1;31m---------------------------------------------------------------------------\u001b[0m",
      "\u001b[1;31mStackAPIError\u001b[0m                             Traceback (most recent call last)",
      "\u001b[1;32m<ipython-input-1-71591df6cfe2>\u001b[0m in \u001b[0;36m<module>\u001b[1;34m()\u001b[0m\n\u001b[0;32m      2\u001b[0m \u001b[1;32mimport\u001b[0m \u001b[0mpandas\u001b[0m \u001b[1;32mas\u001b[0m \u001b[0mpd\u001b[0m\u001b[1;33m\u001b[0m\u001b[0m\n\u001b[0;32m      3\u001b[0m \u001b[1;32mimport\u001b[0m \u001b[0mtime\u001b[0m\u001b[1;33m\u001b[0m\u001b[0m\n\u001b[1;32m----> 4\u001b[1;33m \u001b[0mSITE\u001b[0m \u001b[1;33m=\u001b[0m \u001b[0mStackAPI\u001b[0m\u001b[1;33m(\u001b[0m\u001b[1;34m'stackoverflow'\u001b[0m\u001b[1;33m)\u001b[0m\u001b[1;33m\u001b[0m\u001b[0m\n\u001b[0m",
      "\u001b[1;32m/home/grandocu/anaconda2/envs/gl-env/lib/python2.7/site-packages/stackapi/stackapi.pyc\u001b[0m in \u001b[0;36m__init__\u001b[1;34m(self, name, version, **kwargs)\u001b[0m\n\u001b[0;32m     70\u001b[0m \u001b[1;33m\u001b[0m\u001b[0m\n\u001b[0;32m     71\u001b[0m         \u001b[0mself\u001b[0m\u001b[1;33m.\u001b[0m\u001b[0m_base_url\u001b[0m \u001b[1;33m=\u001b[0m \u001b[1;34m'https://api.stackexchange.com/{}/'\u001b[0m\u001b[1;33m.\u001b[0m\u001b[0mformat\u001b[0m\u001b[1;33m(\u001b[0m\u001b[0mversion\u001b[0m\u001b[1;33m)\u001b[0m\u001b[1;33m\u001b[0m\u001b[0m\n\u001b[1;32m---> 72\u001b[1;33m         \u001b[0msites\u001b[0m \u001b[1;33m=\u001b[0m \u001b[0mself\u001b[0m\u001b[1;33m.\u001b[0m\u001b[0mfetch\u001b[0m\u001b[1;33m(\u001b[0m\u001b[1;34m'sites'\u001b[0m\u001b[1;33m,\u001b[0m \u001b[0mfilter\u001b[0m\u001b[1;33m=\u001b[0m\u001b[1;34m'!*L1*AY-85YllAr2)'\u001b[0m\u001b[1;33m,\u001b[0m \u001b[0mpagesize\u001b[0m\u001b[1;33m=\u001b[0m\u001b[1;36m1000\u001b[0m\u001b[1;33m)\u001b[0m\u001b[1;33m\u001b[0m\u001b[0m\n\u001b[0m\u001b[0;32m     73\u001b[0m         \u001b[1;32mfor\u001b[0m \u001b[0ms\u001b[0m \u001b[1;32min\u001b[0m \u001b[0msites\u001b[0m\u001b[1;33m[\u001b[0m\u001b[1;34m'items'\u001b[0m\u001b[1;33m]\u001b[0m\u001b[1;33m:\u001b[0m\u001b[1;33m\u001b[0m\u001b[0m\n\u001b[0;32m     74\u001b[0m             \u001b[1;32mif\u001b[0m \u001b[0mname\u001b[0m \u001b[1;33m==\u001b[0m \u001b[0ms\u001b[0m\u001b[1;33m[\u001b[0m\u001b[1;34m'api_site_parameter'\u001b[0m\u001b[1;33m]\u001b[0m\u001b[1;33m:\u001b[0m\u001b[1;33m\u001b[0m\u001b[0m\n",
      "\u001b[1;32m/home/grandocu/anaconda2/envs/gl-env/lib/python2.7/site-packages/stackapi/stackapi.pyc\u001b[0m in \u001b[0;36mfetch\u001b[1;34m(self, endpoint, page, key, filter, **kwargs)\u001b[0m\n\u001b[0;32m    197\u001b[0m                 \u001b[0mcode\u001b[0m \u001b[1;33m=\u001b[0m \u001b[0mresponse\u001b[0m\u001b[1;33m[\u001b[0m\u001b[1;34m\"error_name\"\u001b[0m\u001b[1;33m]\u001b[0m\u001b[1;33m\u001b[0m\u001b[0m\n\u001b[0;32m    198\u001b[0m                 \u001b[0mmessage\u001b[0m \u001b[1;33m=\u001b[0m \u001b[0mresponse\u001b[0m\u001b[1;33m[\u001b[0m\u001b[1;34m\"error_message\"\u001b[0m\u001b[1;33m]\u001b[0m\u001b[1;33m\u001b[0m\u001b[0m\n\u001b[1;32m--> 199\u001b[1;33m                 \u001b[1;32mraise\u001b[0m \u001b[0mStackAPIError\u001b[0m\u001b[1;33m(\u001b[0m\u001b[0mself\u001b[0m\u001b[1;33m.\u001b[0m\u001b[0m_previous_call\u001b[0m\u001b[1;33m,\u001b[0m \u001b[0merror\u001b[0m\u001b[1;33m,\u001b[0m \u001b[0mcode\u001b[0m\u001b[1;33m,\u001b[0m \u001b[0mmessage\u001b[0m\u001b[1;33m)\u001b[0m\u001b[1;33m\u001b[0m\u001b[0m\n\u001b[0m\u001b[0;32m    200\u001b[0m             \u001b[1;32mexcept\u001b[0m \u001b[0mKeyError\u001b[0m\u001b[1;33m:\u001b[0m\u001b[1;33m\u001b[0m\u001b[0m\n\u001b[0;32m    201\u001b[0m                 \u001b[1;32mpass\u001b[0m  \u001b[1;31m# This means there is no error\u001b[0m\u001b[1;33m\u001b[0m\u001b[0m\n",
      "\u001b[1;31mStackAPIError\u001b[0m: "
     ]
    }
   ],
   "source": [
    "from stackapi import StackAPI\n",
    "import pandas as pd\n",
    "import time\n",
    "SITE = StackAPI('stackoverflow')"
   ]
  },
  {
   "cell_type": "code",
   "execution_count": 40,
   "metadata": {
    "collapsed": false
   },
   "outputs": [],
   "source": [
    "start_time = int(time.mktime(time.strptime(\"2016-06-01T00:00:00\", \"%Y-%m-%dT%H:%M:%S\")))\n",
    "end_time = int(time.mktime(time.strptime(\"2017-06-01T00:00:00\", \"%Y-%m-%dT%H:%M:%S\")))\n",
    "questions = SITE.fetch('questions', fromdate=start_time, todate=end_time,\n",
    "                       min=20, sort='votes')"
   ]
  },
  {
   "cell_type": "code",
   "execution_count": 41,
   "metadata": {
    "collapsed": false
   },
   "outputs": [
    {
     "ename": "StackAPIError",
     "evalue": "",
     "output_type": "error",
     "traceback": [
      "\u001b[1;31m---------------------------------------------------------------------------\u001b[0m",
      "\u001b[1;31mStackAPIError\u001b[0m                             Traceback (most recent call last)",
      "\u001b[1;32m<ipython-input-41-995784799b84>\u001b[0m in \u001b[0;36m<module>\u001b[1;34m()\u001b[0m\n\u001b[0;32m      3\u001b[0m \u001b[1;32mwhile\u001b[0m \u001b[0mquestions\u001b[0m\u001b[1;33m[\u001b[0m\u001b[1;34m'has_more'\u001b[0m\u001b[1;33m]\u001b[0m \u001b[1;33m==\u001b[0m \u001b[0mTrue\u001b[0m\u001b[1;33m:\u001b[0m\u001b[1;33m\u001b[0m\u001b[0m\n\u001b[0;32m      4\u001b[0m     questions = SITE.fetch('questions', fromdate=start_time, todate=end_time,\n\u001b[1;32m----> 5\u001b[1;33m                        min=20, sort='votes', page=i)\n\u001b[0m\u001b[0;32m      6\u001b[0m     \u001b[0mtdf\u001b[0m \u001b[1;33m=\u001b[0m \u001b[0mpd\u001b[0m\u001b[1;33m.\u001b[0m\u001b[0mDataFrame\u001b[0m\u001b[1;33m.\u001b[0m\u001b[0mfrom_dict\u001b[0m\u001b[1;33m(\u001b[0m\u001b[0mquestions\u001b[0m\u001b[1;33m)\u001b[0m\u001b[1;33m\u001b[0m\u001b[0m\n\u001b[0;32m      7\u001b[0m     \u001b[0mqdf\u001b[0m \u001b[1;33m=\u001b[0m \u001b[0mpd\u001b[0m\u001b[1;33m.\u001b[0m\u001b[0mconcat\u001b[0m\u001b[1;33m(\u001b[0m\u001b[1;33m[\u001b[0m\u001b[0mqdf\u001b[0m\u001b[1;33m,\u001b[0m \u001b[0mtdf\u001b[0m\u001b[1;33m]\u001b[0m\u001b[1;33m)\u001b[0m\u001b[1;33m\u001b[0m\u001b[0m\n",
      "\u001b[1;32m/home/grandocu/anaconda2/envs/gl-env/lib/python2.7/site-packages/stackapi/stackapi.pyc\u001b[0m in \u001b[0;36mfetch\u001b[1;34m(self, endpoint, page, key, filter, **kwargs)\u001b[0m\n\u001b[0;32m    197\u001b[0m                 \u001b[0mcode\u001b[0m \u001b[1;33m=\u001b[0m \u001b[0mresponse\u001b[0m\u001b[1;33m[\u001b[0m\u001b[1;34m\"error_name\"\u001b[0m\u001b[1;33m]\u001b[0m\u001b[1;33m\u001b[0m\u001b[0m\n\u001b[0;32m    198\u001b[0m                 \u001b[0mmessage\u001b[0m \u001b[1;33m=\u001b[0m \u001b[0mresponse\u001b[0m\u001b[1;33m[\u001b[0m\u001b[1;34m\"error_message\"\u001b[0m\u001b[1;33m]\u001b[0m\u001b[1;33m\u001b[0m\u001b[0m\n\u001b[1;32m--> 199\u001b[1;33m                 \u001b[1;32mraise\u001b[0m \u001b[0mStackAPIError\u001b[0m\u001b[1;33m(\u001b[0m\u001b[0mself\u001b[0m\u001b[1;33m.\u001b[0m\u001b[0m_previous_call\u001b[0m\u001b[1;33m,\u001b[0m \u001b[0merror\u001b[0m\u001b[1;33m,\u001b[0m \u001b[0mcode\u001b[0m\u001b[1;33m,\u001b[0m \u001b[0mmessage\u001b[0m\u001b[1;33m)\u001b[0m\u001b[1;33m\u001b[0m\u001b[0m\n\u001b[0m\u001b[0;32m    200\u001b[0m             \u001b[1;32mexcept\u001b[0m \u001b[0mKeyError\u001b[0m\u001b[1;33m:\u001b[0m\u001b[1;33m\u001b[0m\u001b[0m\n\u001b[0;32m    201\u001b[0m                 \u001b[1;32mpass\u001b[0m  \u001b[1;31m# This means there is no error\u001b[0m\u001b[1;33m\u001b[0m\u001b[0m\n",
      "\u001b[1;31mStackAPIError\u001b[0m: "
     ]
    }
   ],
   "source": [
    "qdf = pd.DataFrame.from_dict(questions)\n",
    "i = 2\n",
    "while questions['has_more'] == True and i < 10:\n",
    "    questions = SITE.fetch('questions', fromdate=start_time, todate=end_time,\n",
    "                       min=20, sort='votes', page=i)\n",
    "    tdf = pd.DataFrame.from_dict(questions)\n",
    "    qdf = pd.concat([qdf, tdf])\n",
    "    i += 1 \n",
    "qdf = qdf.reset_index()\n",
    "qdf = qdf.to_csv(\"questions.csv\")"
   ]
  },
  {
   "cell_type": "code",
   "execution_count": 33,
   "metadata": {
    "collapsed": false
   },
   "outputs": [],
   "source": [
    "import ast\n",
    "answerlist = []\n",
    "qdf = pd.read_csv(\"questions.csv\")\n",
    "for index, row in qdf.iterrows():\n",
    "    rd = ast.literal_eval(row['items'])\n",
    "    if 'accepted_answer_id' in rd and 'user_id' in rd['owner']:\n",
    "        answerlist.append(rd['accepted_answer_id'])"
   ]
  },
  {
   "cell_type": "code",
   "execution_count": 34,
   "metadata": {
    "collapsed": false
   },
   "outputs": [],
   "source": [
    "adf = {}\n",
    "answers = SITE.fetch('/answers/{ids}', ids=answerlist)\n",
    "adf = pd.DataFrame.from_dict(answers)\n",
    "i = 2\n",
    "while answers['has_more'] == True and i <= 50:\n",
    "    answers = SITE.fetch('/answers/{ids}', ids=answerlist, page=i)\n",
    "    tdf = pd.DataFrame.from_dict(answers)\n",
    "    adf = pd.concat([adf, tdf])\n",
    "    i += 1 \n",
    "adf = adf.reset_index()\n",
    "adf = adf.to_csv(\"answers.csv\")"
   ]
  },
  {
   "cell_type": "code",
   "execution_count": null,
   "metadata": {
    "collapsed": true
   },
   "outputs": [],
   "source": [
    "#numiters = int(len(answerlist) / 99)\n",
    "#if numiters == 0:\n",
    "#    answers = SITE.fetch('/answers/{ids}', ids=answerlist)\n",
    "#    adf = pd.DataFrame.from_dict(answers)\n",
    "#else:\n",
    "#    answers = SITE.fetch('/answers/{ids}', ids=answerlist[:99])\n",
    "#    adf = pd.DataFrame.from_dict(answers)\n",
    "#    j = 99\n",
    "#    k = j + 99\n",
    "#    for i in range(0, numiters):\n",
    "#        answers = SITE.fetch('/answers/{ids}', ids=answerlist[j:k])\n",
    "#        temp = pd.DataFrame.from_dict(answers)\n",
    "#        adf = pd.concat([adf, temp])\n",
    "#        j = j + 99\n",
    "#        k = k + 99\n",
    "#adf = adf.reset_index()\n",
    "#adf = adf.to_csv(\"answers.csv\")"
   ]
  },
  {
   "cell_type": "code",
   "execution_count": 1,
   "metadata": {
    "collapsed": false,
    "scrolled": true
   },
   "outputs": [],
   "source": [
    "#Only run above when needed.\n",
    "import ast\n",
    "import pandas as pd\n",
    "userasklist = []\n",
    "useranswerlist = []\n",
    "questionlist = []\n",
    "adf = pd.read_csv(\"answers.csv\")\n",
    "qdf = pd.read_csv(\"questions.csv\")\n",
    "dq = {}\n",
    "dtag = {}\n",
    "for index, row in qdf.iterrows():\n",
    "    q = ast.literal_eval(row['items'])\n",
    "    if 'accepted_answer_id' in q and 'user_id' in q['owner']:\n",
    "        dq[q['question_id']] = q['owner']['user_id']\n",
    "        if 'tags' in q:\n",
    "            dtag[q['question_id']] = q['tags']\n",
    "        else:\n",
    "            dtag[q['question_id']] = []"
   ]
  },
  {
   "cell_type": "code",
   "execution_count": 8,
   "metadata": {
    "collapsed": false,
    "scrolled": true
   },
   "outputs": [
    {
     "data": {
      "text/html": [
       "<div>\n",
       "<table border=\"1\" class=\"dataframe\">\n",
       "  <thead>\n",
       "    <tr style=\"text-align: right;\">\n",
       "      <th></th>\n",
       "      <th>question</th>\n",
       "      <th>answered</th>\n",
       "      <th>asked</th>\n",
       "      <th>tags</th>\n",
       "    </tr>\n",
       "  </thead>\n",
       "  <tbody>\n",
       "    <tr>\n",
       "      <th>0</th>\n",
       "      <td>38516736</td>\n",
       "      <td>2257100</td>\n",
       "      <td>722393</td>\n",
       "      <td>[visual-studio-2015, vs-team-services]</td>\n",
       "    </tr>\n",
       "    <tr>\n",
       "      <th>1</th>\n",
       "      <td>32204807</td>\n",
       "      <td>3465182</td>\n",
       "      <td>2745567</td>\n",
       "      <td>[c#, xamarin, xamarin.ios, xamarin.android, xa...</td>\n",
       "    </tr>\n",
       "    <tr>\n",
       "      <th>2</th>\n",
       "      <td>33869832</td>\n",
       "      <td>743382</td>\n",
       "      <td>3415258</td>\n",
       "      <td>[c++, language-lawyer]</td>\n",
       "    </tr>\n",
       "    <tr>\n",
       "      <th>3</th>\n",
       "      <td>34562061</td>\n",
       "      <td>1906307</td>\n",
       "      <td>771848</td>\n",
       "      <td>[javascript, python, selenium, selenium-webdri...</td>\n",
       "    </tr>\n",
       "    <tr>\n",
       "      <th>4</th>\n",
       "      <td>33155087</td>\n",
       "      <td>481165</td>\n",
       "      <td>1298028</td>\n",
       "      <td>[javascript, android, reactjs, react-native]</td>\n",
       "    </tr>\n",
       "    <tr>\n",
       "      <th>5</th>\n",
       "      <td>32665616</td>\n",
       "      <td>1263565</td>\n",
       "      <td>5352996</td>\n",
       "      <td>[perl]</td>\n",
       "    </tr>\n",
       "    <tr>\n",
       "      <th>6</th>\n",
       "      <td>36438034</td>\n",
       "      <td>1048572</td>\n",
       "      <td>596041</td>\n",
       "      <td>[javascript, google-chrome]</td>\n",
       "    </tr>\n",
       "    <tr>\n",
       "      <th>7</th>\n",
       "      <td>31553560</td>\n",
       "      <td>231977</td>\n",
       "      <td>862919</td>\n",
       "      <td>[visual-studio-2015]</td>\n",
       "    </tr>\n",
       "    <tr>\n",
       "      <th>8</th>\n",
       "      <td>34039834</td>\n",
       "      <td>5760605</td>\n",
       "      <td>3668891</td>\n",
       "      <td>[android, apk]</td>\n",
       "    </tr>\n",
       "    <tr>\n",
       "      <th>9</th>\n",
       "      <td>32780315</td>\n",
       "      <td>3627726</td>\n",
       "      <td>1415560</td>\n",
       "      <td>[c#, asp.net, asp.net-mvc, roslyn]</td>\n",
       "    </tr>\n",
       "  </tbody>\n",
       "</table>\n",
       "</div>"
      ],
      "text/plain": [
       "   question answered    asked  \\\n",
       "0  38516736  2257100   722393   \n",
       "1  32204807  3465182  2745567   \n",
       "2  33869832   743382  3415258   \n",
       "3  34562061  1906307   771848   \n",
       "4  33155087   481165  1298028   \n",
       "5  32665616  1263565  5352996   \n",
       "6  36438034  1048572   596041   \n",
       "7  31553560   231977   862919   \n",
       "8  34039834  5760605  3668891   \n",
       "9  32780315  3627726  1415560   \n",
       "\n",
       "                                                tags  \n",
       "0             [visual-studio-2015, vs-team-services]  \n",
       "1  [c#, xamarin, xamarin.ios, xamarin.android, xa...  \n",
       "2                             [c++, language-lawyer]  \n",
       "3  [javascript, python, selenium, selenium-webdri...  \n",
       "4       [javascript, android, reactjs, react-native]  \n",
       "5                                             [perl]  \n",
       "6                        [javascript, google-chrome]  \n",
       "7                               [visual-studio-2015]  \n",
       "8                                     [android, apk]  \n",
       "9                 [c#, asp.net, asp.net-mvc, roslyn]  "
      ]
     },
     "metadata": {},
     "output_type": "display_data"
    },
    {
     "name": "stdout",
     "output_type": "stream",
     "text": [
      "None\n"
     ]
    }
   ],
   "source": [
    "from IPython.display import display\n",
    "da = {}\n",
    "for index, row in adf.iterrows():\n",
    "    q = ast.literal_eval(row['items'])\n",
    "    if 'user_id' in q['owner']:\n",
    "        da[q['question_id']] = q['owner']['user_id']\n",
    "    else:\n",
    "        #find a way to delete this\n",
    "        da[q['question_id']] = \"Null\"\n",
    "\n",
    "d = {\"asked\": pd.Series(dq.values(), index=dq.keys()), \n",
    "     \"answered\": pd.Series(da.values(), index=dq.keys()),\n",
    "     \"tags\":pd.Series(dtag.values(), index=dq.keys())}\n",
    "data = pd.DataFrame(d)\n",
    "data = data.reset_index()\n",
    "data = data.rename(columns = {'index':'question'})\n",
    "print display(data[:10])"
   ]
  },
  {
   "cell_type": "code",
   "execution_count": 119,
   "metadata": {
    "collapsed": false
   },
   "outputs": [
    {
     "name": "stdout",
     "output_type": "stream",
     "text": [
      "[u'java', u'generics', u'java-8', u'type-inference']\n",
      "asked\n",
      "3999748    [html, css, css3, svg, css-shapes]\n",
      "3999748    [html, css, css3, svg, css-shapes]\n",
      "Name: tags, dtype: object\n"
     ]
    },
    {
     "ename": "KeyError",
     "evalue": "'the label [2541573] is not in the [index]'",
     "output_type": "error",
     "traceback": [
      "\u001b[1;31m---------------------------------------------------------------------------\u001b[0m",
      "\u001b[1;31mKeyError\u001b[0m                                  Traceback (most recent call last)",
      "\u001b[1;32m<ipython-input-119-fbad29e433bd>\u001b[0m in \u001b[0;36m<module>\u001b[1;34m()\u001b[0m\n\u001b[0;32m      5\u001b[0m \u001b[1;32mfor\u001b[0m \u001b[0mn\u001b[0m\u001b[1;33m,\u001b[0m \u001b[0msd\u001b[0m \u001b[1;32min\u001b[0m \u001b[0mg\u001b[0m\u001b[1;33m.\u001b[0m\u001b[0mnodes_iter\u001b[0m\u001b[1;33m(\u001b[0m\u001b[0mTrue\u001b[0m\u001b[1;33m)\u001b[0m\u001b[1;33m:\u001b[0m\u001b[1;33m\u001b[0m\u001b[0m\n\u001b[0;32m      6\u001b[0m     \u001b[1;32mif\u001b[0m \u001b[0mn\u001b[0m \u001b[1;32min\u001b[0m \u001b[0mdataasked\u001b[0m\u001b[1;33m.\u001b[0m\u001b[0mix\u001b[0m\u001b[1;33m[\u001b[0m\u001b[1;33m:\u001b[0m\u001b[1;33m,\u001b[0m\u001b[1;36m1\u001b[0m\u001b[1;33m]\u001b[0m\u001b[1;33m.\u001b[0m\u001b[0mtolist\u001b[0m\u001b[1;33m(\u001b[0m\u001b[1;33m)\u001b[0m\u001b[1;33m:\u001b[0m\u001b[1;33m\u001b[0m\u001b[0m\n\u001b[1;32m----> 7\u001b[1;33m         \u001b[1;32mprint\u001b[0m \u001b[0mdataasked\u001b[0m\u001b[1;33m.\u001b[0m\u001b[0mloc\u001b[0m\u001b[1;33m[\u001b[0m\u001b[0mn\u001b[0m\u001b[1;33m,\u001b[0m\u001b[1;34m\"tags\"\u001b[0m\u001b[1;33m]\u001b[0m\u001b[1;33m\u001b[0m\u001b[0m\n\u001b[0m\u001b[0;32m      8\u001b[0m         \u001b[0msd\u001b[0m\u001b[1;33m[\u001b[0m\u001b[1;34m'tags'\u001b[0m\u001b[1;33m]\u001b[0m \u001b[1;33m=\u001b[0m \u001b[0mdataasked\u001b[0m\u001b[1;33m.\u001b[0m\u001b[0mloc\u001b[0m\u001b[1;33m[\u001b[0m\u001b[0mn\u001b[0m\u001b[1;33m,\u001b[0m\u001b[1;34m\"tags\"\u001b[0m\u001b[1;33m]\u001b[0m\u001b[1;33m\u001b[0m\u001b[0m\n",
      "\u001b[1;32m/home/grandocu/anaconda2/envs/gl-env/lib/python2.7/site-packages/pandas/core/indexing.pyc\u001b[0m in \u001b[0;36m__getitem__\u001b[1;34m(self, key)\u001b[0m\n\u001b[0;32m   1282\u001b[0m     \u001b[1;32mdef\u001b[0m \u001b[0m__getitem__\u001b[0m\u001b[1;33m(\u001b[0m\u001b[0mself\u001b[0m\u001b[1;33m,\u001b[0m \u001b[0mkey\u001b[0m\u001b[1;33m)\u001b[0m\u001b[1;33m:\u001b[0m\u001b[1;33m\u001b[0m\u001b[0m\n\u001b[0;32m   1283\u001b[0m         \u001b[1;32mif\u001b[0m \u001b[0mtype\u001b[0m\u001b[1;33m(\u001b[0m\u001b[0mkey\u001b[0m\u001b[1;33m)\u001b[0m \u001b[1;32mis\u001b[0m \u001b[0mtuple\u001b[0m\u001b[1;33m:\u001b[0m\u001b[1;33m\u001b[0m\u001b[0m\n\u001b[1;32m-> 1284\u001b[1;33m             \u001b[1;32mreturn\u001b[0m \u001b[0mself\u001b[0m\u001b[1;33m.\u001b[0m\u001b[0m_getitem_tuple\u001b[0m\u001b[1;33m(\u001b[0m\u001b[0mkey\u001b[0m\u001b[1;33m)\u001b[0m\u001b[1;33m\u001b[0m\u001b[0m\n\u001b[0m\u001b[0;32m   1285\u001b[0m         \u001b[1;32melse\u001b[0m\u001b[1;33m:\u001b[0m\u001b[1;33m\u001b[0m\u001b[0m\n\u001b[0;32m   1286\u001b[0m             \u001b[1;32mreturn\u001b[0m \u001b[0mself\u001b[0m\u001b[1;33m.\u001b[0m\u001b[0m_getitem_axis\u001b[0m\u001b[1;33m(\u001b[0m\u001b[0mkey\u001b[0m\u001b[1;33m,\u001b[0m \u001b[0maxis\u001b[0m\u001b[1;33m=\u001b[0m\u001b[1;36m0\u001b[0m\u001b[1;33m)\u001b[0m\u001b[1;33m\u001b[0m\u001b[0m\n",
      "\u001b[1;32m/home/grandocu/anaconda2/envs/gl-env/lib/python2.7/site-packages/pandas/core/indexing.pyc\u001b[0m in \u001b[0;36m_getitem_tuple\u001b[1;34m(self, tup)\u001b[0m\n\u001b[0;32m    778\u001b[0m     \u001b[1;32mdef\u001b[0m \u001b[0m_getitem_tuple\u001b[0m\u001b[1;33m(\u001b[0m\u001b[0mself\u001b[0m\u001b[1;33m,\u001b[0m \u001b[0mtup\u001b[0m\u001b[1;33m)\u001b[0m\u001b[1;33m:\u001b[0m\u001b[1;33m\u001b[0m\u001b[0m\n\u001b[0;32m    779\u001b[0m         \u001b[1;32mtry\u001b[0m\u001b[1;33m:\u001b[0m\u001b[1;33m\u001b[0m\u001b[0m\n\u001b[1;32m--> 780\u001b[1;33m             \u001b[1;32mreturn\u001b[0m \u001b[0mself\u001b[0m\u001b[1;33m.\u001b[0m\u001b[0m_getitem_lowerdim\u001b[0m\u001b[1;33m(\u001b[0m\u001b[0mtup\u001b[0m\u001b[1;33m)\u001b[0m\u001b[1;33m\u001b[0m\u001b[0m\n\u001b[0m\u001b[0;32m    781\u001b[0m         \u001b[1;32mexcept\u001b[0m \u001b[0mIndexingError\u001b[0m\u001b[1;33m:\u001b[0m\u001b[1;33m\u001b[0m\u001b[0m\n\u001b[0;32m    782\u001b[0m             \u001b[1;32mpass\u001b[0m\u001b[1;33m\u001b[0m\u001b[0m\n",
      "\u001b[1;32m/home/grandocu/anaconda2/envs/gl-env/lib/python2.7/site-packages/pandas/core/indexing.pyc\u001b[0m in \u001b[0;36m_getitem_lowerdim\u001b[1;34m(self, tup)\u001b[0m\n\u001b[0;32m    902\u001b[0m         \u001b[1;32mfor\u001b[0m \u001b[0mi\u001b[0m\u001b[1;33m,\u001b[0m \u001b[0mkey\u001b[0m \u001b[1;32min\u001b[0m \u001b[0menumerate\u001b[0m\u001b[1;33m(\u001b[0m\u001b[0mtup\u001b[0m\u001b[1;33m)\u001b[0m\u001b[1;33m:\u001b[0m\u001b[1;33m\u001b[0m\u001b[0m\n\u001b[0;32m    903\u001b[0m             \u001b[1;32mif\u001b[0m \u001b[0mis_label_like\u001b[0m\u001b[1;33m(\u001b[0m\u001b[0mkey\u001b[0m\u001b[1;33m)\u001b[0m \u001b[1;32mor\u001b[0m \u001b[0misinstance\u001b[0m\u001b[1;33m(\u001b[0m\u001b[0mkey\u001b[0m\u001b[1;33m,\u001b[0m \u001b[0mtuple\u001b[0m\u001b[1;33m)\u001b[0m\u001b[1;33m:\u001b[0m\u001b[1;33m\u001b[0m\u001b[0m\n\u001b[1;32m--> 904\u001b[1;33m                 \u001b[0msection\u001b[0m \u001b[1;33m=\u001b[0m \u001b[0mself\u001b[0m\u001b[1;33m.\u001b[0m\u001b[0m_getitem_axis\u001b[0m\u001b[1;33m(\u001b[0m\u001b[0mkey\u001b[0m\u001b[1;33m,\u001b[0m \u001b[0maxis\u001b[0m\u001b[1;33m=\u001b[0m\u001b[0mi\u001b[0m\u001b[1;33m)\u001b[0m\u001b[1;33m\u001b[0m\u001b[0m\n\u001b[0m\u001b[0;32m    905\u001b[0m \u001b[1;33m\u001b[0m\u001b[0m\n\u001b[0;32m    906\u001b[0m                 \u001b[1;31m# we have yielded a scalar ?\u001b[0m\u001b[1;33m\u001b[0m\u001b[1;33m\u001b[0m\u001b[0m\n",
      "\u001b[1;32m/home/grandocu/anaconda2/envs/gl-env/lib/python2.7/site-packages/pandas/core/indexing.pyc\u001b[0m in \u001b[0;36m_getitem_axis\u001b[1;34m(self, key, axis)\u001b[0m\n\u001b[0;32m   1427\u001b[0m \u001b[1;33m\u001b[0m\u001b[0m\n\u001b[0;32m   1428\u001b[0m         \u001b[1;31m# fall thru to straight lookup\u001b[0m\u001b[1;33m\u001b[0m\u001b[1;33m\u001b[0m\u001b[0m\n\u001b[1;32m-> 1429\u001b[1;33m         \u001b[0mself\u001b[0m\u001b[1;33m.\u001b[0m\u001b[0m_has_valid_type\u001b[0m\u001b[1;33m(\u001b[0m\u001b[0mkey\u001b[0m\u001b[1;33m,\u001b[0m \u001b[0maxis\u001b[0m\u001b[1;33m)\u001b[0m\u001b[1;33m\u001b[0m\u001b[0m\n\u001b[0m\u001b[0;32m   1430\u001b[0m         \u001b[1;32mreturn\u001b[0m \u001b[0mself\u001b[0m\u001b[1;33m.\u001b[0m\u001b[0m_get_label\u001b[0m\u001b[1;33m(\u001b[0m\u001b[0mkey\u001b[0m\u001b[1;33m,\u001b[0m \u001b[0maxis\u001b[0m\u001b[1;33m=\u001b[0m\u001b[0maxis\u001b[0m\u001b[1;33m)\u001b[0m\u001b[1;33m\u001b[0m\u001b[0m\n\u001b[0;32m   1431\u001b[0m \u001b[1;33m\u001b[0m\u001b[0m\n",
      "\u001b[1;32m/home/grandocu/anaconda2/envs/gl-env/lib/python2.7/site-packages/pandas/core/indexing.pyc\u001b[0m in \u001b[0;36m_has_valid_type\u001b[1;34m(self, key, axis)\u001b[0m\n\u001b[0;32m   1389\u001b[0m                 \u001b[1;32mraise\u001b[0m\u001b[1;33m\u001b[0m\u001b[0m\n\u001b[0;32m   1390\u001b[0m             \u001b[1;32mexcept\u001b[0m\u001b[1;33m:\u001b[0m\u001b[1;33m\u001b[0m\u001b[0m\n\u001b[1;32m-> 1391\u001b[1;33m                 \u001b[0merror\u001b[0m\u001b[1;33m(\u001b[0m\u001b[1;33m)\u001b[0m\u001b[1;33m\u001b[0m\u001b[0m\n\u001b[0m\u001b[0;32m   1392\u001b[0m \u001b[1;33m\u001b[0m\u001b[0m\n\u001b[0;32m   1393\u001b[0m         \u001b[1;32mreturn\u001b[0m \u001b[0mTrue\u001b[0m\u001b[1;33m\u001b[0m\u001b[0m\n",
      "\u001b[1;32m/home/grandocu/anaconda2/envs/gl-env/lib/python2.7/site-packages/pandas/core/indexing.pyc\u001b[0m in \u001b[0;36merror\u001b[1;34m()\u001b[0m\n\u001b[0;32m   1376\u001b[0m                                     \"key\")\n\u001b[0;32m   1377\u001b[0m                 raise KeyError(\"the label [%s] is not in the [%s]\" %\n\u001b[1;32m-> 1378\u001b[1;33m                                (key, self.obj._get_axis_name(axis)))\n\u001b[0m\u001b[0;32m   1379\u001b[0m \u001b[1;33m\u001b[0m\u001b[0m\n\u001b[0;32m   1380\u001b[0m             \u001b[1;32mtry\u001b[0m\u001b[1;33m:\u001b[0m\u001b[1;33m\u001b[0m\u001b[0m\n",
      "\u001b[1;31mKeyError\u001b[0m: 'the label [2541573] is not in the [index]'"
     ]
    }
   ],
   "source": [
    "import networkx as nx\n",
    "#work on this....\n",
    "g = nx.from_pandas_dataframe(data, \"asked\", \"answered\", edge_attr=\"tags\")\n",
    "dataasked = data.set_index(\"asked\")\n",
    "for n, sd in g.nodes_iter(True):\n",
    "    if n in dataasked.ix[:,1].tolist():\n",
    "        print dataasked.loc[n,\"tags\"]\n",
    "        sd['tags'] = dataasked.loc[n,\"tags\"]"
   ]
  },
  {
   "cell_type": "code",
   "execution_count": 60,
   "metadata": {
    "collapsed": false
   },
   "outputs": [
    {
     "name": "stdout",
     "output_type": "stream",
     "text": [
      "4\n",
      "[(217408, 0.7333333333333333), (2069064, 0.26666666666666666), (4332023, 0.13333333333333333), (550975, 0.06666666666666667), (747412, 0.06666666666666667), (1193781, 0.06666666666666667), (1333012, 0.06666666666666667), (1798031, 0.06666666666666667), (2927965, 0.06666666666666667)]\n"
     ]
    }
   ],
   "source": [
    "#calcualte diameter.  We must pick a subset that is entirely connected and check that diameter.  \n",
    "#We will use the biggest network\n",
    "bn = sorted(nx.connected_components(g), key=len, reverse=True)[0]\n",
    "g = g.subgraph(bn)\n",
    "print nx.diameter(g)\n",
    "print sorted(nx.degree_centrality(g).iteritems(), key=lambda(k, v): (-v, k))[0:9]"
   ]
  },
  {
   "cell_type": "code",
   "execution_count": 61,
   "metadata": {
    "collapsed": true
   },
   "outputs": [],
   "source": [
    "#change graph to just the largest network\n",
    "so_nodes = g.nodes()\n",
    "so_edges = g.edges()"
   ]
  },
  {
   "cell_type": "code",
   "execution_count": 45,
   "metadata": {
    "collapsed": false
   },
   "outputs": [
    {
     "data": {
      "application/javascript": [
       "$(\"head\").append($(\"<link/>\").attr({\n",
       "  rel:  \"stylesheet\",\n",
       "  type: \"text/css\",\n",
       "  href: \"//cdnjs.cloudflare.com/ajax/libs/font-awesome/4.1.0/css/font-awesome.min.css\"\n",
       "}));\n",
       "$(\"head\").append($(\"<link/>\").attr({\n",
       "  rel:  \"stylesheet\",\n",
       "  type: \"text/css\",\n",
       "  href: \"https://static.turi.com/products/graphlab-create/2.1/canvas/css/canvas.css\"\n",
       "}));\n",
       "\n",
       "            (function(){\n",
       "\n",
       "                var e = null;\n",
       "                if (typeof element == 'undefined') {\n",
       "                    var scripts = document.getElementsByTagName('script');\n",
       "                    var thisScriptTag = scripts[scripts.length-1];\n",
       "                    var parentDiv = thisScriptTag.parentNode;\n",
       "                    e = document.createElement('div');\n",
       "                    parentDiv.appendChild(e);\n",
       "                } else {\n",
       "                    e = element[0];\n",
       "                }\n",
       "\n",
       "                if (typeof requirejs !== 'undefined') {\n",
       "                    // disable load timeout; ipython_app.js is large and can take a while to load.\n",
       "                    requirejs.config({waitSeconds: 0});\n",
       "                }\n",
       "\n",
       "                require(['https://static.turi.com/products/graphlab-create/2.1/canvas/js/ipython_app.js'], function(IPythonApp){\n",
       "                    var app = new IPythonApp();\n",
       "                    app.attachView('sgraph','View', {\"edges_labels\": null, \"selected_variable\": {\"name\": [\"so_graph\"], \"view_file\": \"sgraph\", \"view_component\": \"View\", \"view_params\": {\"elabel_hover\": false, \"vertex_positions\": null, \"h_offset\": 0.0, \"node_size\": 300, \"ecolor\": [0.37, 0.33, 0.33], \"elabel\": null, \"arrows\": true, \"ewidth\": 1, \"vlabel\": \"id\", \"highlight_color\": [0.69, 0.0, 0.498], \"vcolor\": [0.522, 0.741, 0.0], \"vlabel_hover\": false, \"highlight\": {}, \"v_offset\": 0.03}, \"view_components\": [\"View\"], \"type\": \"SGraph\", \"descriptives_links\": {\"edges\": \"edges\", \"vertices\": \"vertices\"}, \"descriptives\": {\"edges\": 15, \"vertices\": 16}}, \"positions\": null, \"error_type\": 0, \"vertices\": [6699994, 747412, 2069064, 5146838, 2927965, 1333012, 1798031, 4135178, 217408, 4332023, 1193781, 3003045, 6353219, 4834129, 550975, 5774090], \"vertices_labels\": [6699994, 747412, 2069064, 5146838, 2927965, 1333012, 1798031, 4135178, 217408, 4332023, 1193781, 3003045, 6353219, 4834129, 550975, 5774090], \"edges\": [[2069064, 6699994], [2069064, 747412], [2069064, 4834129], [217408, 2069064], [217408, 1798031], [217408, 1333012], [217408, 5146838], [217408, 2927965], [217408, 4135178], [217408, 1193781], [217408, 4332023], [217408, 3003045], [217408, 5774090], [217408, 550975], [6353219, 4332023]], \"ipython\": true, \"error_msg\": \"\"}, e);\n",
       "                });\n",
       "            })();\n",
       "        "
      ]
     },
     "metadata": {},
     "output_type": "display_data"
    }
   ],
   "source": [
    "from graphlab import SGraph, Vertex, Edge, canvas\n",
    "canvas.set_target('ipynb')\n",
    "so_graph = SGraph()\n",
    "nodelist = []\n",
    "for i in so_nodes:\n",
    "    nodelist.append(Vertex(i))\n",
    "so_graph = so_graph.add_vertices(nodelist)\n",
    "for i, j in so_edges:\n",
    "    so_graph = so_graph.add_edges(Edge(i,j))\n",
    "so_graph.show(vlabel='id', arrows=True)"
   ]
  },
  {
   "cell_type": "code",
   "execution_count": 62,
   "metadata": {
    "collapsed": false
   },
   "outputs": [
    {
     "name": "stdout",
     "output_type": "stream",
     "text": [
      "{}\n"
     ]
    }
   ],
   "source": [
    "print nx.get_node_attributes(g , 'tags')"
   ]
  },
  {
   "cell_type": "code",
   "execution_count": null,
   "metadata": {
    "collapsed": true
   },
   "outputs": [],
   "source": []
  }
 ],
 "metadata": {
  "kernelspec": {
   "display_name": "Python 2",
   "language": "python",
   "name": "python2"
  },
  "language_info": {
   "codemirror_mode": {
    "name": "ipython",
    "version": 2
   },
   "file_extension": ".py",
   "mimetype": "text/x-python",
   "name": "python",
   "nbconvert_exporter": "python",
   "pygments_lexer": "ipython2",
   "version": "2.7.11"
  }
 },
 "nbformat": 4,
 "nbformat_minor": 0
}
