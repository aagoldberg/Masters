{
 "cells": [
  {
   "cell_type": "code",
   "execution_count": 1,
   "metadata": {
    "collapsed": false,
    "scrolled": true
   },
   "outputs": [],
   "source": [
    "import networkx as net\n",
    "import matplotlib.pyplot as plot\n",
    "#Generate the requested graph from scratch\n",
    "g = net.Graph()\n",
    "g.add_edges_from([(\"Beverly\",\"Andre\"),(\"Beverly\",\"Ed\"),(\"Beverly\",\"Diane\"),(\"Beverly\",\"Garth\")])\n",
    "g.add_edges_from([(\"Andre\",\"Carol\"),(\"Andre\",\"Fernando\"),(\"Andre\",\"Diane\")])\n",
    "g.add_edges_from([(\"Ed\",\"Diane\"),(\"Ed\",\"Garth\")])\n",
    "g.add_edges_from([(\"Diane\",\"Carol\"),(\"Diane\",\"Fernando\"),(\"Diane\",\"Garth\")])\n",
    "g.add_edges_from([(\"Carol\",\"Fernando\")])\n",
    "g.add_edges_from([(\"Garth\",\"Fernando\"),(\"Garth\",\"Heather\")])\n",
    "g.add_edges_from([(\"Fernando\",\"Heather\")])\n",
    "g.add_edges_from([(\"Heather\",\"Ike\")])\n",
    "g.add_edges_from([(\"Ike\",\"Jane\")])\n",
    "net.draw(g, pos=net.spring_layout(g), labels={\"Beverly\":\"Beverly\",\"Andre\":\"Andre\",\n",
    "                                              \"Ed\":\"Ed\",\"Garth\":\"Garth\",\"Carol\":\"Carol\",\n",
    "                                             \"Fernando\":\"Fernando\",\"Diane\":\"Diane\",\"Heather\":\"Heather\",\n",
    "                                             \"Ike\":\"Ike\",\"Jane\":\"Jane\"})\n",
    "plot.axis('off')\n",
    "plot.show()"
   ]
  },
  {
   "cell_type": "code",
   "execution_count": 2,
   "metadata": {
    "collapsed": false
   },
   "outputs": [],
   "source": [
    "#Generate the requested graph from a krackhardt generator\n",
    "gg = net.generators.small.krackhardt_kite_graph()\n",
    "net.draw(gg, labels={0:\"Andre\", 1:\"Beverly\", 2:\"Carol\", 3:\"Diane\", 4:\"Ed\", 5:\"Fernando\", 6:\"Garth\", 7:\"Heather\", 8:\"Ike\", 9:\"Jane\"})\n",
    "plot.show()"
   ]
  },
  {
   "cell_type": "code",
   "execution_count": 3,
   "metadata": {
    "collapsed": false
   },
   "outputs": [],
   "source": [
    "#Bonus Points.  Generate graph using NHL Data\n",
    "#NHL Captains - http://www.hockey-reference.com/leagues/NHL_2017_captains.html\n",
    "import csv\n",
    "\n",
    "data = open('NHLCaptainList.csv', 'rb')\n",
    "file = csv.reader(data, delimiter=',')\n",
    "header = file.next()\n",
    "#NHL organized by Teams and Captains\n",
    "NHLTeams = net.Graph()\n",
    "NHLTeams.add_node(\"NHL\")"
   ]
  },
  {
   "cell_type": "code",
   "execution_count": 4,
   "metadata": {
    "collapsed": false
   },
   "outputs": [],
   "source": [
    "label = {\"NHL\":\"NHL\"}\n",
    "playerlabel = {}\n",
    "for team, player, age, position, birthplace, nationality, notes in file:\n",
    "    NHLTeams.add_edges_from([(\"NHL\",team)])\n",
    "    label[team] = team\n",
    "    if not player:\n",
    "        player = \"Vacant\"\n",
    "    NHLTeams.add_edges_from([(team,player)])\n",
    "    label[player] = player"
   ]
  },
  {
   "cell_type": "code",
   "execution_count": 5,
   "metadata": {
    "collapsed": false
   },
   "outputs": [],
   "source": [
    "net.draw(NHLTeams, pos=net.spring_layout(NHLTeams), labels=label)\n",
    "plot.show()"
   ]
  },
  {
   "cell_type": "code",
   "execution_count": 6,
   "metadata": {
    "collapsed": false
   },
   "outputs": [],
   "source": [
    "#NHL Captains organized by nationality\n",
    "data.seek(0)\n",
    "header = file.next()\n",
    "labelnationality = {}\n",
    "NHLNationality = net.Graph()\n",
    "for team, player, age, position, birthplace, nationality, notes in file:\n",
    "    if player:\n",
    "        NHLNationality.add_node(nationality)\n",
    "        labelnationality[nationality] = nationality\n",
    "data.seek(1)\n",
    "for team, player, age, position, birthplace, nationality, notes in file:\n",
    "    if player:\n",
    "        NHLNationality.add_edges_from([(nationality, player)])\n",
    "        labelnationality[player] = player"
   ]
  },
  {
   "cell_type": "code",
   "execution_count": 7,
   "metadata": {
    "collapsed": false
   },
   "outputs": [],
   "source": [
    "net.draw(NHLNationality, pos=net.spring_layout(NHLNationality), labels=labelnationality)\n",
    "plot.show()"
   ]
  },
  {
   "cell_type": "code",
   "execution_count": 8,
   "metadata": {
    "collapsed": false
   },
   "outputs": [
    {
     "name": "stderr",
     "output_type": "stream",
     "text": [
      "[INFO] graphlab.cython.cy_server: GraphLab Create v2.1 started. Logging: C:\\Users\\John\\AppData\\Local\\Temp\\graphlab_server_1496855890.log.0\n"
     ]
    },
    {
     "name": "stdout",
     "output_type": "stream",
     "text": [
      "This non-commercial license of GraphLab Create for academic use is assigned to john.grando@spsmail.cuny.edu and will expire on June 05, 2018.\n"
     ]
    }
   ],
   "source": [
    "#Remake graph in GraphLab\n",
    "from graphlab import SGraph, Vertex, Edge\n",
    "NHLN = SGraph()\n",
    "data.seek(0)\n",
    "header = file.next()\n",
    "verts = []\n",
    "nationlist = []\n",
    "for team, player, age, position, birthplace, nationality, notes in file:\n",
    "    if player:\n",
    "        verts.append(Vertex(nationality))\n",
    "        nationlist.append(nationality)\n",
    "        verts.append(Vertex(player))\n",
    "NHLN = NHLN.add_vertices(verts)\n",
    "data.seek(0)\n",
    "header = file.next()\n",
    "for team, player, age, position, birthplace, nationality, notes in file:\n",
    "    if player:\n",
    "        NHLN = NHLN.add_edges(Edge(nationality, player))"
   ]
  },
  {
   "cell_type": "code",
   "execution_count": 9,
   "metadata": {
    "collapsed": false
   },
   "outputs": [
    {
     "name": "stdout",
     "output_type": "stream",
     "text": [
      "Canvas is accessible via web browser at the URL: http://localhost:55909/index.html\n",
      "Opening Canvas in default web browser.\n"
     ]
    }
   ],
   "source": [
    "NHLN.show(vlabel=\"id\", highlight=nationlist)"
   ]
  },
  {
   "cell_type": "code",
   "execution_count": null,
   "metadata": {
    "collapsed": true
   },
   "outputs": [],
   "source": []
  }
 ],
 "metadata": {
  "kernelspec": {
   "display_name": "Python 2",
   "language": "python",
   "name": "python2"
  },
  "language_info": {
   "codemirror_mode": {
    "name": "ipython",
    "version": 2
   },
   "file_extension": ".py",
   "mimetype": "text/x-python",
   "name": "python",
   "nbconvert_exporter": "python",
   "pygments_lexer": "ipython2",
   "version": "2.7.11"
  }
 },
 "nbformat": 4,
 "nbformat_minor": 2
}
